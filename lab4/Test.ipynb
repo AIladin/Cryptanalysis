{
 "cells": [
  {
   "cell_type": "code",
   "execution_count": 1,
   "metadata": {
    "ExecuteTime": {
     "end_time": "2020-05-26T09:53:52.626893Z",
     "start_time": "2020-05-26T09:53:52.618176Z"
    }
   },
   "outputs": [],
   "source": [
    "from RSA import miller_test\n",
    "from Crypto.Util.number import isPrime\n",
    "from Crypto.Random.random import randint"
   ]
  },
  {
   "cell_type": "markdown",
   "metadata": {},
   "source": [
    "# Prime test"
   ]
  },
  {
   "cell_type": "code",
   "execution_count": 2,
   "metadata": {
    "ExecuteTime": {
     "end_time": "2020-05-26T09:53:52.855130Z",
     "start_time": "2020-05-26T09:53:52.628372Z"
    }
   },
   "outputs": [],
   "source": [
    "test_number = 1000\n",
    "maxint = 2**32"
   ]
  },
  {
   "cell_type": "code",
   "execution_count": 3,
   "metadata": {
    "ExecuteTime": {
     "end_time": "2020-05-26T09:53:53.359219Z",
     "start_time": "2020-05-26T09:53:52.860138Z"
    }
   },
   "outputs": [
    {
     "name": "stdout",
     "output_type": "stream",
     "text": [
      "False positive error rate: 0.0%\n",
      "True  negative error rate: 0.0%\n"
     ]
    }
   ],
   "source": [
    "false_positive = true_negative = 0\n",
    "\n",
    "for _ in range(test_number):\n",
    "    t = randint(1, maxint)\n",
    "    \n",
    "    m = miller_test(t)\n",
    "    p = isPrime(t)\n",
    "    \n",
    "    if p and not m:\n",
    "        true_negative += 1\n",
    "    if not p and m:\n",
    "        false_positive += 1\n",
    "        \n",
    "print(f\"False positive error rate: {false_positive/test_number}%\\n\" +\n",
    "      f\"True  negative error rate: {true_negative/test_number}%\")"
   ]
  },
  {
   "cell_type": "code",
   "execution_count": 4,
   "metadata": {
    "ExecuteTime": {
     "end_time": "2020-05-26T09:53:53.370936Z",
     "start_time": "2020-05-26T09:53:53.361133Z"
    }
   },
   "outputs": [
    {
     "data": {
      "text/plain": [
       "(True, False)"
      ]
     },
     "execution_count": 4,
     "metadata": {},
     "output_type": "execute_result"
    }
   ],
   "source": [
    "miller_test(8599), miller_test(121)"
   ]
  },
  {
   "cell_type": "markdown",
   "metadata": {},
   "source": [
    "# RSA"
   ]
  },
  {
   "cell_type": "code",
   "execution_count": 5,
   "metadata": {
    "ExecuteTime": {
     "end_time": "2020-05-26T09:53:53.583697Z",
     "start_time": "2020-05-26T09:53:53.372874Z"
    }
   },
   "outputs": [],
   "source": [
    "from RSA import decrypt, encrypt, keygen"
   ]
  },
  {
   "cell_type": "markdown",
   "metadata": {},
   "source": [
    "## Key generation"
   ]
  },
  {
   "cell_type": "code",
   "execution_count": 6,
   "metadata": {
    "ExecuteTime": {
     "end_time": "2020-05-26T09:53:57.272888Z",
     "start_time": "2020-05-26T09:53:53.586768Z"
    }
   },
   "outputs": [
    {
     "name": "stdout",
     "output_type": "stream",
     "text": [
      "N : bit-length = 2048\n",
      "\n",
      "24954803692979631013656506248111266913031436975292150252740539549002367852019739366690234288210005236162891019268267981520855677980172667847451514737042899965656264311586151602442813699937215018767599547319816879689216651640462268713767146829480515674924815278326262889662193538130947752955882310983349666939862674266872752459384508036998668045528619199333954616430548946209149141927230689157119111365392067716639143999658685811338403457063859939180652869742131405966407513679823870508772403175171803660862009245594539670756161140823196166435118851122358530166566553051122939617326908739511583826589725197474465240221\n",
      "\n",
      "e : bit-length = 2048\n",
      "\n",
      "18092632518055353433261680354518831684494531968104786345129211452988137203583265718186816855313005790877129492336701897315674358701300489420200473633756607136888291690661416350337195838372790990499315601831961595147335275206906285171025908869426576658358886003387980568239956352655658078957777696033448424710477807205234048126017295566804234740121936350142236202336715352283284156042883253768340182738502259805934452968214933748005435793876101500611990198915056981971907206747066493394100804920664983979586013891752566586061029492562212020760635619986205943247869055755480542707244129057841798887225644214999845690319\n",
      "\n",
      "d : bit_length = 2048\n",
      "\n",
      "22712205354851494579957995444620354949356215644176988203903822407796967374575497250249807130686398484631770186408404777898296313106912939887385501568529154160030866594159569562027000927190629419204231817916041790669342881999969281279769778270761443284484409258051026217496163246606447828795326259851752260602733677350721847866066353689437679827046533385591198668013250592211862385809931455413240349910929214085867404381185528644401329155402529540068056034735851763609618384316885989666041861059461016489404582232121502789688054591394370501213615590368877002916059865462835405901988884025715812416910363200196740971535\n"
     ]
    }
   ],
   "source": [
    "n, e, d = keygen()\n",
    "print(f\"N : bit-length = {n.bit_length()}\\n\\n{n}\\n\\n\" +\n",
    "      f\"e : bit-length = {e.bit_length()}\\n\\n{e}\\n\\n\" +\n",
    "      f\"d : bit_length = {d.bit_length()}\\n\\n{d}\")"
   ]
  },
  {
   "cell_type": "markdown",
   "metadata": {},
   "source": [
    "## Encrypt"
   ]
  },
  {
   "cell_type": "code",
   "execution_count": 7,
   "metadata": {
    "ExecuteTime": {
     "end_time": "2020-05-26T09:53:57.276335Z",
     "start_time": "2020-05-26T09:53:57.274187Z"
    }
   },
   "outputs": [],
   "source": [
    "pt = b'The quick brown fox jumps over the lazy dog.'"
   ]
  },
  {
   "cell_type": "code",
   "execution_count": 8,
   "metadata": {
    "ExecuteTime": {
     "end_time": "2020-05-26T09:53:57.591318Z",
     "start_time": "2020-05-26T09:53:57.278066Z"
    }
   },
   "outputs": [
    {
     "data": {
      "text/plain": [
       "b\"9\\x87\\x9a\\x14\\x95`o1\\xcdv\\xfc\\x04eD\\xc6vt\\xec\\x03\\x99R\\xcb`\\x838\\xf9\\xf7\\xb9\\xc7\\x9e\\xa4\\xeb\\xfb\\x86\\xa7\\x18\\x002i=\\x04\\x15\\x99\\x84\\xfc\\xca\\xe3\\x13Z\\xdf\\x19Z\\x96!mm!\\x02\\x88Z\\x93B\\xbe\\x19\\xe1\\xd9C\\xe6\\xe5\\x80\\xc3|\\xc9\\x16\\xd1\\xbe\\xf3'\\xcf\\x80\\xd2$O\\xd1\\xccHH\\xc4\\xb7\\xea^T\\x9e\\x9d\\xba\\xc9\\xb5\\x91\\xa4\\xbf\\x8e\\xe0\\xcc+\\xd3DpPOt\\x05\\x84\\xc4\\x0f:\\x7f\\x85\\xe2j\\xd7\\xc2v\\x08d^K\\x87\\xaf\\xe7R\\x0c\\x89\\xc7\\xbf\\x0c\\x88b\\x91\\xc3\\x80\\x87\\xdb-\\x00\\x83c\\xcf\\xac\\xac(O\\xbbT\\x00\\xb8\\xad\\x15\\xf8\\x11\\xf5\\xfe\\x03H\\x84\\xe8v\\xd8\\x15\\xef[\\xdb\\xb6\\x06\\xdaY:yn6H\\x9c\\x92\\x96\\xe5l \\n\\xfd\\x9e\\x1d\\nQ'\\xbbT\\xc4\\x84fzbs 3\\x8d\\xd5\\n\\x16(\\xa7\\x9b:\\x96N/\\x18\\xc7\\xc1k\\x9b\\x82\\x0fNh\\xee{\\xc9\\xd1\\x1eq\\x03j\\xbf\\xea\\xac\\x19\\xde\\xd65\\xd9lK\\xeenJOR9\\x0b\\xb5)\\x00\\x99\\x12\\xb3\\xff\\xb5\""
      ]
     },
     "execution_count": 8,
     "metadata": {},
     "output_type": "execute_result"
    }
   ],
   "source": [
    "ct = encrypt(e, n, pt)\n",
    "ct"
   ]
  },
  {
   "cell_type": "markdown",
   "metadata": {},
   "source": [
    "## Decrypt"
   ]
  },
  {
   "cell_type": "code",
   "execution_count": 9,
   "metadata": {
    "ExecuteTime": {
     "end_time": "2020-05-26T09:53:57.876798Z",
     "start_time": "2020-05-26T09:53:57.592665Z"
    }
   },
   "outputs": [
    {
     "data": {
      "text/plain": [
       "b'The quick brown fox jumps over the lazy dog.'"
      ]
     },
     "execution_count": 9,
     "metadata": {},
     "output_type": "execute_result"
    }
   ],
   "source": [
    "decrypted = decrypt(d, n, ct) \n",
    "decrypted"
   ]
  },
  {
   "cell_type": "code",
   "execution_count": 10,
   "metadata": {
    "ExecuteTime": {
     "end_time": "2020-05-26T09:53:58.095881Z",
     "start_time": "2020-05-26T09:53:57.877978Z"
    }
   },
   "outputs": [
    {
     "data": {
      "text/plain": [
       "True"
      ]
     },
     "execution_count": 10,
     "metadata": {},
     "output_type": "execute_result"
    }
   ],
   "source": [
    "decrypted == pt"
   ]
  },
  {
   "cell_type": "markdown",
   "metadata": {},
   "source": [
    "# RSA-OAEP"
   ]
  },
  {
   "cell_type": "code",
   "execution_count": 11,
   "metadata": {
    "ExecuteTime": {
     "end_time": "2020-05-26T09:53:58.307304Z",
     "start_time": "2020-05-26T09:53:58.099535Z"
    }
   },
   "outputs": [],
   "source": [
    "import sys\n",
    "sys.path.append('..')"
   ]
  },
  {
   "cell_type": "code",
   "execution_count": 12,
   "metadata": {
    "ExecuteTime": {
     "end_time": "2020-05-26T09:53:58.551953Z",
     "start_time": "2020-05-26T09:53:58.311469Z"
    }
   },
   "outputs": [],
   "source": [
    "from RSA import OAEP\n",
    "from lab3.SHA256 import SHA256"
   ]
  },
  {
   "cell_type": "code",
   "execution_count": 13,
   "metadata": {
    "ExecuteTime": {
     "end_time": "2020-05-26T09:53:58.755954Z",
     "start_time": "2020-05-26T09:53:58.554960Z"
    }
   },
   "outputs": [],
   "source": [
    "message = b'TEST'"
   ]
  },
  {
   "cell_type": "markdown",
   "metadata": {},
   "source": [
    "## Encrypt"
   ]
  },
  {
   "cell_type": "code",
   "execution_count": 14,
   "metadata": {
    "ExecuteTime": {
     "end_time": "2020-05-26T09:53:59.133440Z",
     "start_time": "2020-05-26T09:53:58.759116Z"
    }
   },
   "outputs": [
    {
     "data": {
      "text/plain": [
       "b\"\\xbe\\xea\\x0e\\xf5\\x9ct^\\x15\\xc4\\xcd\\xaa\\x82\\xcf\\x08c9V\\x05\\x87[\\xd3\\xb7$\\xab\\x87X\\xe2\\xb3\\xd5=\\xad\\x90j\\xdd\\x89\\xa0\\xd4\\x9d\\x12\\x14Z\\xba\\xc5\\x0f\\xc3)\\x94\\xca\\xc1l\\x96n\\x80\\xad\\xf1\\xc8=RXj'\\x95\\xbb5\\x83?\\xa2D\\xc2^\\xe7F\\xeeB\\x97\\xdc\\xd4\\xbdi\\xc0\\xd7,B\\x93\\xc2\\x1a\\x1a\\xcb+\\xfa\\x9c9V^\\x8d:|7\\x99\\x04\\x9c`Yu\\x88\\xac|[W\\xf2\\xc7\\xa1\\xde\\x0c\\xc67\\xe8\\xa4>\\x1fS\\x12m\\x90CX\\xa8t\\xbbQ\\xcbOi\\xa2\\x177`\\xe6\\x11\\xde\\xdf,7\\xef\\xe4\\x9den\\rg\\xd3u\\xbeED\\xfe\\xf5\\xa6\\xab\\x18\\x15\\xe3c\\x17\\x82\\xc0ch\\x18\\x97\\xa2\\x16\\xd0\\xc2\\xbe`\\xd2gM_5|\\xa7s:\\x84\\xc4\\xe7\\xe6\\x7f\\xbc\\x81?)\\xd0\\xc6\\xe8!\\x03o^\\xf5f\\x1e\\n?\\x98`wM9\\xebt\\xd2`\\xdc\\xcc{\\x04\\xcb&y\\xc5\\xdc\\xab\\xcfn\\xa5o\\x118\\x1ehy\\xab\\xbd;Vge\\x12\\xa1\\x00\\xf7\\xb7\\xd8\\xe2\\xd0\\x8fC\\xddIr\\x0f\\x7f\\xa4\""
      ]
     },
     "execution_count": 14,
     "metadata": {},
     "output_type": "execute_result"
    }
   ],
   "source": [
    "k1 = 256 - len(message) * 8\n",
    "k0 = 256\n",
    "oaep_ct = OAEP.encrypt(e, n, k0, k1, SHA256, SHA256, message)\n",
    "oaep_ct"
   ]
  },
  {
   "cell_type": "markdown",
   "metadata": {},
   "source": [
    "## Decrypt"
   ]
  },
  {
   "cell_type": "code",
   "execution_count": 15,
   "metadata": {
    "ExecuteTime": {
     "end_time": "2020-05-26T09:53:59.338701Z",
     "start_time": "2020-05-26T09:53:59.134894Z"
    }
   },
   "outputs": [
    {
     "data": {
      "text/plain": [
       "b'TEST'"
      ]
     },
     "execution_count": 15,
     "metadata": {},
     "output_type": "execute_result"
    }
   ],
   "source": [
    "oaep_pt = OAEP.decrypt(d, n, k0, k1, SHA256, SHA256, oaep_ct)\n",
    "oaep_pt"
   ]
  },
  {
   "cell_type": "markdown",
   "metadata": {},
   "source": [
    "## Attempt to modify crypto-text"
   ]
  },
  {
   "cell_type": "code",
   "execution_count": 16,
   "metadata": {
    "ExecuteTime": {
     "end_time": "2020-05-26T09:53:59.590230Z",
     "start_time": "2020-05-26T09:53:59.339916Z"
    }
   },
   "outputs": [],
   "source": [
    "message = b'TEST'\n",
    "k1 = 256 - len(message) * 8\n",
    "k0 = 256"
   ]
  },
  {
   "cell_type": "code",
   "execution_count": 17,
   "metadata": {
    "ExecuteTime": {
     "end_time": "2020-05-26T09:54:03.445416Z",
     "start_time": "2020-05-26T09:53:59.593004Z"
    }
   },
   "outputs": [],
   "source": [
    "n, e, d = keygen()"
   ]
  },
  {
   "cell_type": "markdown",
   "metadata": {},
   "source": [
    "### RSA"
   ]
  },
  {
   "cell_type": "code",
   "execution_count": 18,
   "metadata": {
    "ExecuteTime": {
     "end_time": "2020-05-26T09:54:03.475562Z",
     "start_time": "2020-05-26T09:54:03.446795Z"
    }
   },
   "outputs": [
    {
     "data": {
      "text/plain": [
       "b'%\\xfb|\\x01S\\xa0I\\xc9 \"\\xf82<\\xd1\\xf1\\x9dX\\xf4\\x85\\xf2\\xdb\\xb2\\x82\\xe3\\x04T6\\n\\xcd\\x05\\xf2B\\x1a\\xa0\\xe8\\xae9\\x1c\\x02v:\\x0eb\\xaf\\xf3\\xa9\\xd7\\xe1\\xce\\x19]\\xce\\xacn~\\x84\\'\\xcd;\\xad\\xa77\\xd1$a\\xdfE*v\\xd5\\xa8\\xa9Gi\\xca\\xbb`\\xc6\\xfff\\x96\\x9b5\\xfe\\xbe{\\xae\\x87<\\x8f\\xa9\\xad#\\x81a\\xc2\\x08\\x8a\\xcfr\\xd7]\\x15\\xd4\\xca\\xaa\\xb4QZ!\\x95\\xb3;z\\xc1\\x8aT\\xb2\\x98\\xb1\\xca6\\xf0)%\\xe5\\x83\\xbf\"\\x12\\xf0\\xff\\xc68H\\xa2q1\\xf4.eg\\r\\xf4Xl\\x8c_i\\x1e\\x94\\\\\\r\\xc0\\x07$\\x88*\\xa1#N\\x8dF\\x94\\x89:e\\xdb\\x82\\x8d\\xa6&\\xb2xr\\xf1\\xc8&%6Mg\\xfb\\x90$v\\x0c\\xab\\xe8z-|\\xfee\\'A\\xa13\\xbe\\x10\\x06d-\\n\\xe7\\x00\\xe0\\x89.\\xbd\\x8c\\x08\\xe94\\xe4Q\\xac\\x18\\xffLg\\xa5\\t\\xd1\\xb9\\x04\\xf6\\xd9r\\x9ehE\\x003\\x023f/&\\x8e\\xa8\\x813\\xcd\\x19\\x1c\\xf5U\\xf7\\x8d\\xfd~\\x00\\xf3\\xd6\\xa0'"
      ]
     },
     "execution_count": 18,
     "metadata": {},
     "output_type": "execute_result"
    }
   ],
   "source": [
    "rsa_ct = encrypt(e, n, message)\n",
    "rsa_ct"
   ]
  },
  {
   "cell_type": "code",
   "execution_count": 19,
   "metadata": {
    "ExecuteTime": {
     "end_time": "2020-05-26T09:54:03.797649Z",
     "start_time": "2020-05-26T09:54:03.476696Z"
    }
   },
   "outputs": [
    {
     "data": {
      "text/plain": [
       "b'%\\xfb|\\x01S\\xa0I\\xc9 \"\\xf82<\\xd1\\xf1\\x9dX\\xf4\\x85\\xf2\\xdb\\xb2\\x82\\xe3\\x04T6\\n\\xcd\\x05\\xf2B\\x1a\\xa0\\xe8\\xae9\\x1c\\x02v:\\x0eb\\xaf\\xf3\\xa9\\xd7\\xe1\\xce\\x19]\\xce\\xacn~\\x84\\'\\xcd;\\xad\\xa77\\xd1$a\\xdfE*v\\xd5\\xa8\\xa9Gi\\xca\\xbb`\\xc6\\xfff\\x96\\x9b5\\xfe\\xbe{\\xae\\x87<\\x8f\\xa9\\xad#\\x81a\\xc2\\x08\\x8a\\xcfr\\xd7]\\x15\\xd4\\xca\\xaa\\xb4QZ!\\x95\\xb3;z\\xc1\\x8aT\\xb2\\x98\\xb1\\xca6\\xf0)%\\xe5\\x83\\xbf\"\\x12\\xf0\\xff\\xc68H\\xa2q1\\xf4.eg\\r\\xf4Xl\\x8c_i\\x1e\\x94\\\\\\r\\xc0\\x07$\\x88*\\xa1#N\\x8dF\\x04\\x89:e\\xdb\\x82\\x8d\\xa6&\\xb2xr\\xf1\\xc8&%6Mg\\xfb\\x90$v\\x0c\\xab\\xe8z-|\\xfee\\'A\\xa13\\xbe\\x10\\x06d-\\n\\xe7\\x00\\xe0\\x89.\\xbd\\x8c\\x08\\xe94\\xe4Q\\xac\\x18\\xffLg\\xa5\\t\\xd1\\xb9\\x04\\xf6\\xd9r\\x9ehE\\x003\\x023f/&\\x8e\\xa8\\x813\\xcd\\x19\\x1c\\xf5U\\xf7\\x8d\\xfd~\\x00\\xf3\\xd6\\xa0'"
      ]
     },
     "execution_count": 19,
     "metadata": {},
     "output_type": "execute_result"
    }
   ],
   "source": [
    "#change one byte\n",
    "rsa_ct = bytearray(rsa_ct)\n",
    "rsa_ct[randint(0, len(rsa_ct))] = randint(0, 16)\n",
    "rsa_ct = bytes(rsa_ct)\n",
    "rsa_ct"
   ]
  },
  {
   "cell_type": "code",
   "execution_count": 20,
   "metadata": {
    "ExecuteTime": {
     "end_time": "2020-05-26T09:54:04.055114Z",
     "start_time": "2020-05-26T09:54:03.800688Z"
    }
   },
   "outputs": [
    {
     "data": {
      "text/plain": [
       "b'\\'\\x0bO\\xfa\\xda\\r\\xb7$\\x88\\xf5+\\x1bk .\\\\n\\xd3\\xd1\\xd8o\\xb1\\xe5\\xf7\\xbc\\xff\\xf4\\x1f!\\xa1\\xcf\\xff\\xb8\\xdb\\x8f\\xc3S+Z\\x9f\\x1a\\xe0\\xba\\x97\\x8d~\\xd94-\\x86L\\x9d|\\x02:j\\xaf\\x9fg\\xbf*\\t\\xa2+\\xc1\\x82!\\xfeFU\\x9ee\\xc4\\xddE\\x13<\\xabhS2\\xca\\x19%\\xc8\\xc0\\xbe\\xd0\\xfd@\\'\\x12\\xaf\\x0e\\x19\\x8f\\x00p\\x0b\\xe4\"j\\xbd\\x1fSq\\xd0\\xfa\\xc8\\x9a\\x06\\x94_\\xaf\\xc3\\x0fYBmt\\xf1\\x1f\\xed\\x86Q^\\x0e^\\xc8\\xa0#3\\x97\\xdeq\\xad\\xad+lv\\xd7\\xc50a\\x0e\\x07\\x86\\xbcA\\xafe\\xa9\\xb1\\xb1^\\r\\x1dk\\x19\\x91\\xef\\xbc\\x1b\\xd1\\x91\\x8c\\x8c8g$n\\xef\\x05\\xb3Z\\x07\\x04 \\x9c\\xfe\\xee\\xa7\\xa88\\xc4\\xc8\\xf1\\x16z\\xd1\\xe9{\\x13]\\xf6\\\\_\\x9c=\\x04?)NGajrk\\xa0i\\x97\\x19\\x91\\x7f\\t\\xe4K\\xf8\\x9b\\xe9\\xd3\\xfa\\xbd\\xa5\\x1c,\\x16\\xd9#\\x8b\\xed\\x8e\\xfe\\x0f\\x11[\\x99U;\\x96\\xcc\\xb8\\t\\x94\\xa1\\x07\\x90x\\x87\\xffcBv;\\xbda'"
      ]
     },
     "execution_count": 20,
     "metadata": {},
     "output_type": "execute_result"
    }
   ],
   "source": [
    "decrypted = decrypt(d, n, rsa_ct)\n",
    "decrypted # does not throw any errors and returns wrong message"
   ]
  },
  {
   "cell_type": "code",
   "execution_count": 21,
   "metadata": {
    "ExecuteTime": {
     "end_time": "2020-05-26T09:54:04.267759Z",
     "start_time": "2020-05-26T09:54:04.056236Z"
    }
   },
   "outputs": [
    {
     "data": {
      "text/plain": [
       "False"
      ]
     },
     "execution_count": 21,
     "metadata": {},
     "output_type": "execute_result"
    }
   ],
   "source": [
    "decrypted == message"
   ]
  },
  {
   "cell_type": "markdown",
   "metadata": {},
   "source": [
    "### RSA-OAEP"
   ]
  },
  {
   "cell_type": "code",
   "execution_count": 22,
   "metadata": {
    "ExecuteTime": {
     "end_time": "2020-05-26T09:54:04.630934Z",
     "start_time": "2020-05-26T09:54:04.270778Z"
    }
   },
   "outputs": [
    {
     "data": {
      "text/plain": [
       "b'L\\xccc\\xa1\\xe8\\xa1\\xc4\\xeb\\xb5\\x14E4\\xb5?\\xc4\\\\\\x00S\\xb1\\x1f:\\xd7\\xf9\\xda\\xfc\\xc6\\xa4\\xba\\xf0\\xbb\\xff\\xcc\\x85\\x1f\\x8a\\x04\\x07\\xd8\\x156\\xcb\\x0f\\xb4\\xed\\x9c<\\xb7\\\\\\n\\xb7\\x93\\x8c\\xc4=s\\xd7o\\xa1ws\\xa5\\xc8\\x973\\xd0n\\x91\\x03Z\\xcf5j\\xc3I\\xffG\\xb5\\xcc\\xcen_~C#>\\xceA\\x81\\xd6qx\\xec+\\x13DP\\xec\\x0eZ\\x1cF\\x90\\x16\\x03\\xea\\x82\\x9d\\x05\\xd3\\x1f\\x00R\\xe1D\\xe3p\\xd8\\xa3\\xdfS\\xd5F;\\xea\\xadt\\x17\\xa1V~\\x0ei\\xbd+_\\xa3\\xe1\\n\\xf9\\xe4\\x02!ZY \\xb5\\xc7\\x9a\\xe3\\x99\\xd7\\x01\\x88o<\\x95\\x8e\\xbf\\x9e|\\xb3\\xa8\\xa0p\\x88%\\x03\\xb7\\x83\\xab\\xf9E\\x18\\xbeqU\\xc6\\xdd\\x1d\\x8b\\xda\\x81\\xe0~r\\xc9\\x81I\\x1bQo\\xc8{c\\xd3\\x15\\xdd\\x11m\\x19\\x9a\\xa6\\xc2\\xc5\\x93\\xdc\\x88@\\xf8\\xbf\\x11u\\xaeq\\xd3\\xa5l/\\xe8\\x13\\xd1\\xb1\\x1e\\xb7\\xa2\\x9f\\xb3\\x19q]\\xeb4\\xf1\\xe6B\\x95\\x93\\xfc\\x8f\\x1e\\xec<-\\x8b\\x9a\\xc0a\\xabF\\xb3\\xc3nz\\xbb\\x7f\\xf0'"
      ]
     },
     "execution_count": 22,
     "metadata": {},
     "output_type": "execute_result"
    }
   ],
   "source": [
    "oaep_ct = OAEP.encrypt(e, n, k0, k1, SHA256, SHA256, message)\n",
    "oaep_ct"
   ]
  },
  {
   "cell_type": "code",
   "execution_count": 23,
   "metadata": {
    "ExecuteTime": {
     "end_time": "2020-05-26T09:54:04.917588Z",
     "start_time": "2020-05-26T09:54:04.632714Z"
    }
   },
   "outputs": [
    {
     "data": {
      "text/plain": [
       "b'L\\xccc\\xa1\\xe8\\xa1\\xc4\\xeb\\xb5\\x14E4\\xb5?\\xc4\\\\\\x00S\\xb1\\x1f:\\xd7\\xf9\\xda\\xfc\\xc6\\xa4\\xba\\xf0\\xbb\\xff\\xcc\\x85\\x1f\\x8a\\x04\\x07\\xd8\\x156\\xcb\\x0f\\xb4\\xed\\x9c<\\xb7\\\\\\n\\xb7\\x93\\x8c\\xc4=s\\xd7o\\xa1ws\\xa5\\xc8\\x083\\xd0n\\x91\\x03Z\\xcf5j\\xc3I\\xffG\\xb5\\xcc\\xcen_~C#>\\xceA\\x81\\xd6qx\\xec+\\x13DP\\xec\\x0eZ\\x1cF\\x90\\x16\\x03\\xea\\x82\\x9d\\x05\\xd3\\x1f\\x00R\\xe1D\\xe3p\\xd8\\xa3\\xdfS\\xd5F;\\xea\\xadt\\x17\\xa1V~\\x0ei\\xbd+_\\xa3\\xe1\\n\\xf9\\xe4\\x02!ZY \\xb5\\xc7\\x9a\\xe3\\x99\\xd7\\x01\\x88o<\\x95\\x8e\\xbf\\x9e|\\xb3\\xa8\\xa0p\\x88%\\x03\\xb7\\x83\\xab\\xf9E\\x18\\xbeqU\\xc6\\xdd\\x1d\\x8b\\xda\\x81\\xe0~r\\xc9\\x81I\\x1bQo\\xc8{c\\xd3\\x15\\xdd\\x11m\\x19\\x9a\\xa6\\xc2\\xc5\\x93\\xdc\\x88@\\xf8\\xbf\\x11u\\xaeq\\xd3\\xa5l/\\xe8\\x13\\xd1\\xb1\\x1e\\xb7\\xa2\\x9f\\xb3\\x19q]\\xeb4\\xf1\\xe6B\\x95\\x93\\xfc\\x8f\\x1e\\xec<-\\x8b\\x9a\\xc0a\\xabF\\xb3\\xc3nz\\xbb\\x7f\\xf0'"
      ]
     },
     "execution_count": 23,
     "metadata": {},
     "output_type": "execute_result"
    }
   ],
   "source": [
    "# change one byte\n",
    "oaep_ct = bytearray(oaep_ct)\n",
    "oaep_ct[randint(0, len(oaep_ct))] = randint(0, 16)\n",
    "oaep_ct = bytes(oaep_ct)\n",
    "oaep_ct"
   ]
  },
  {
   "cell_type": "code",
   "execution_count": 24,
   "metadata": {
    "ExecuteTime": {
     "end_time": "2020-05-26T09:54:05.746987Z",
     "start_time": "2020-05-26T09:54:04.921289Z"
    }
   },
   "outputs": [
    {
     "ename": "AssertionError",
     "evalue": "crypto text has been modified.",
     "output_type": "error",
     "traceback": [
      "\u001b[0;31m---------------------------------------------------------------------------\u001b[0m",
      "\u001b[0;31mAssertionError\u001b[0m                            Traceback (most recent call last)",
      "\u001b[0;32m<ipython-input-24-07858b7b94f5>\u001b[0m in \u001b[0;36m<module>\u001b[0;34m\u001b[0m\n\u001b[1;32m      1\u001b[0m \u001b[0;31m#  Should throw an assertion error.\u001b[0m\u001b[0;34m\u001b[0m\u001b[0;34m\u001b[0m\u001b[0;34m\u001b[0m\u001b[0m\n\u001b[0;32m----> 2\u001b[0;31m \u001b[0moaep_dec\u001b[0m \u001b[0;34m=\u001b[0m \u001b[0mOAEP\u001b[0m\u001b[0;34m.\u001b[0m\u001b[0mdecrypt\u001b[0m\u001b[0;34m(\u001b[0m\u001b[0md\u001b[0m\u001b[0;34m,\u001b[0m \u001b[0mn\u001b[0m\u001b[0;34m,\u001b[0m \u001b[0mk0\u001b[0m\u001b[0;34m,\u001b[0m \u001b[0mk1\u001b[0m\u001b[0;34m,\u001b[0m \u001b[0mSHA256\u001b[0m\u001b[0;34m,\u001b[0m \u001b[0mSHA256\u001b[0m\u001b[0;34m,\u001b[0m \u001b[0moaep_ct\u001b[0m\u001b[0;34m)\u001b[0m\u001b[0;34m\u001b[0m\u001b[0;34m\u001b[0m\u001b[0m\n\u001b[0m\u001b[1;32m      3\u001b[0m \u001b[0moaep_dec\u001b[0m\u001b[0;34m\u001b[0m\u001b[0;34m\u001b[0m\u001b[0m\n",
      "\u001b[0;32m~/Projects/Python/course-3-2/Cryptonalysis/lab4/RSA/OAEP.py\u001b[0m in \u001b[0;36mdecrypt\u001b[0;34m(d, n, k0, k1, g, h, message)\u001b[0m\n\u001b[1;32m     56\u001b[0m     \u001b[0mmessage\u001b[0m \u001b[0;34m-\u001b[0m \u001b[0mmessage\u001b[0m \u001b[0mto\u001b[0m \u001b[0mbe\u001b[0m \u001b[0mencoded\u001b[0m\u001b[0;34m\u001b[0m\u001b[0;34m\u001b[0m\u001b[0m\n\u001b[1;32m     57\u001b[0m     \"\"\"\n\u001b[0;32m---> 58\u001b[0;31m     \u001b[0;32mreturn\u001b[0m \u001b[0m_decrypt_pre\u001b[0m\u001b[0;34m(\u001b[0m\u001b[0mrsa_dec\u001b[0m\u001b[0;34m(\u001b[0m\u001b[0md\u001b[0m\u001b[0;34m,\u001b[0m \u001b[0mn\u001b[0m\u001b[0;34m,\u001b[0m \u001b[0mmessage\u001b[0m\u001b[0;34m)\u001b[0m\u001b[0;34m,\u001b[0m \u001b[0mg\u001b[0m\u001b[0;34m,\u001b[0m \u001b[0mh\u001b[0m\u001b[0;34m,\u001b[0m \u001b[0mk0\u001b[0m\u001b[0;34m,\u001b[0m \u001b[0mk1\u001b[0m\u001b[0;34m)\u001b[0m\u001b[0;34m\u001b[0m\u001b[0;34m\u001b[0m\u001b[0m\n\u001b[0m",
      "\u001b[0;32m~/Projects/Python/course-3-2/Cryptonalysis/lab4/RSA/OAEP.py\u001b[0m in \u001b[0;36m_decrypt_pre\u001b[0;34m(m, g, h, k0, k1)\u001b[0m\n\u001b[1;32m     23\u001b[0m     \u001b[0mm\u001b[0m \u001b[0;34m=\u001b[0m \u001b[0mBits\u001b[0m\u001b[0;34m(\u001b[0m\u001b[0mm\u001b[0m\u001b[0;34m)\u001b[0m\u001b[0;34m\u001b[0m\u001b[0;34m\u001b[0m\u001b[0m\n\u001b[1;32m     24\u001b[0m     \u001b[0;31m# message length does not fit.\u001b[0m\u001b[0;34m\u001b[0m\u001b[0;34m\u001b[0m\u001b[0;34m\u001b[0m\u001b[0m\n\u001b[0;32m---> 25\u001b[0;31m     \u001b[0;32massert\u001b[0m \u001b[0mlen\u001b[0m\u001b[0;34m(\u001b[0m\u001b[0mm\u001b[0m\u001b[0;34m)\u001b[0m \u001b[0;34m-\u001b[0m \u001b[0mk0\u001b[0m \u001b[0;34m==\u001b[0m \u001b[0mg\u001b[0m\u001b[0;34m.\u001b[0m\u001b[0mout_size\u001b[0m\u001b[0;34m,\u001b[0m \u001b[0;34m\"crypto text has been modified.\"\u001b[0m\u001b[0;34m\u001b[0m\u001b[0;34m\u001b[0m\u001b[0m\n\u001b[0m\u001b[1;32m     26\u001b[0m     \u001b[0mx\u001b[0m \u001b[0;34m=\u001b[0m \u001b[0mm\u001b[0m\u001b[0;34m[\u001b[0m\u001b[0;34m:\u001b[0m\u001b[0mlen\u001b[0m\u001b[0;34m(\u001b[0m\u001b[0mm\u001b[0m\u001b[0;34m)\u001b[0m \u001b[0;34m-\u001b[0m \u001b[0mk0\u001b[0m\u001b[0;34m]\u001b[0m\u001b[0;34m\u001b[0m\u001b[0;34m\u001b[0m\u001b[0m\n\u001b[1;32m     27\u001b[0m     \u001b[0my\u001b[0m \u001b[0;34m=\u001b[0m \u001b[0mm\u001b[0m\u001b[0;34m[\u001b[0m\u001b[0mlen\u001b[0m\u001b[0;34m(\u001b[0m\u001b[0mm\u001b[0m\u001b[0;34m)\u001b[0m \u001b[0;34m-\u001b[0m \u001b[0mk0\u001b[0m\u001b[0;34m:\u001b[0m\u001b[0;34m]\u001b[0m\u001b[0;34m\u001b[0m\u001b[0;34m\u001b[0m\u001b[0m\n",
      "\u001b[0;31mAssertionError\u001b[0m: crypto text has been modified."
     ]
    }
   ],
   "source": [
    "#  Should throw an assertion error. \n",
    "oaep_dec = OAEP.decrypt(d, n, k0, k1, SHA256, SHA256, oaep_ct) \n",
    "oaep_dec"
   ]
  }
 ],
 "metadata": {
  "kernelspec": {
   "display_name": "Python 3",
   "language": "python",
   "name": "python3"
  },
  "language_info": {
   "codemirror_mode": {
    "name": "ipython",
    "version": 3
   },
   "file_extension": ".py",
   "mimetype": "text/x-python",
   "name": "python",
   "nbconvert_exporter": "python",
   "pygments_lexer": "ipython3",
   "version": "3.7.4"
  }
 },
 "nbformat": 4,
 "nbformat_minor": 4
}
