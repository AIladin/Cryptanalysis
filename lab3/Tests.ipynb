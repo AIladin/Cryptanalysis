{
 "cells": [
  {
   "cell_type": "code",
   "execution_count": 1,
   "metadata": {
    "ExecuteTime": {
     "end_time": "2020-05-24T08:22:45.470336Z",
     "start_time": "2020-05-24T08:22:45.455054Z"
    }
   },
   "outputs": [],
   "source": [
    "from SHA256 import SHA256 as HW_SHA256\n",
    "from Crypto.Hash import SHA256\n",
    "from Crypto.Random import get_random_bytes\n",
    "from Crypto.Random.random import randint"
   ]
  },
  {
   "cell_type": "markdown",
   "metadata": {},
   "source": [
    "# SHA-256 test"
   ]
  },
  {
   "cell_type": "code",
   "execution_count": 6,
   "metadata": {
    "ExecuteTime": {
     "end_time": "2020-05-23T15:07:44.213811Z",
     "start_time": "2020-05-23T15:07:44.206614Z"
    }
   },
   "outputs": [
    {
     "data": {
      "text/plain": [
       "276"
      ]
     },
     "execution_count": 6,
     "metadata": {},
     "output_type": "execute_result"
    }
   ],
   "source": [
    "N = randint(0, 5120)\n",
    "N"
   ]
  },
  {
   "cell_type": "code",
   "execution_count": 7,
   "metadata": {
    "ExecuteTime": {
     "end_time": "2020-05-23T15:07:46.287855Z",
     "start_time": "2020-05-23T15:07:45.980645Z"
    }
   },
   "outputs": [
    {
     "name": "stdout",
     "output_type": "stream",
     "text": [
      "Message:\n",
      "\n",
      "b\"\\x0b\\x80\\x83\\xb8\\xf7\\x82k\\x14\\xea\\xcd^\\xf9\\xc6\\xfe\\xcc\\x10\\xdb\\xa2\\xc5\\xfd\\xea#rDS\\xd8mb?\\xb0\\xbf=\\xcb\\xa2\\xe1\\xdda\\x17\\xba\\x9b!G\\xd8\\xb0\\x18\\x17F1b\\x84\\x04\\xfa\\x11\\x1b\\xc5\\xc0\\xfe\\x15*g\\x16\\xbeO\\xf6\\xdd-.\\xb6\\x02\\xe9\\xd7\\xde\\x7f|\\xfd\\x16\\xb1\\xa4\\xa9\\x03h\\x17J\\xa7\\xbf`\\xd4+\\xca\\x13\\x0eGON\\r\\xffm-\\x17!T\\x9e\\x19%\\xcf\\x85\\x8c\\xb1\\xd4\\xf4\\xf9B8-\\xc8b'\\xa3\\xf2\\x04akivw\\xb7:\\xbcr\\x9d\\xdc\\xf1oe\\xfd\\x0fxT=ncS\\xc3\\x92E\\x9eT\\xbe\\xab\\x1ar\\xe1,]%w)\\x86L\\xa26\\xda(\\x88\\xb4\\xb7@\\x1a\\x034\\x97\\xda\\xd5`-\\x9a\\xd3\\xb6\\xdd\\x93\\xfa\\xdc\\x19\\xe3\\xaa\\xa6\\xd5\\xfeLx\\xd0\\x80\\x91\\xce\\xb3EY\\xffU\\xe5\\x99\\xeb5\\xda\\xca=m\\xba\\xe5<\\xc90\\xf4q\\xcc\\x1a\\x9f\\x8e2\\xc64\\x07t\\xef\\x9eW1\\xf06\\xecA\\x8bDm\\xc1T\\x8a\\x06\\x1f\\x89GG\\xd0\\x16\\x07+\\xbf\\xa0\\xb8\\x81\\x9dB\\xbfb):\\n\\xd38S\\x84\\xf5||\\xd3\\xd1f\\xfe\\xbb\\xdb~\\x1e\\xdc \\xdd5\"\n",
      "\n",
      "Crypto.Hash implementation : 455556c6db1377df6e52b10cc41fb67ceb7f4288cd259af6ff459acd4faf5e34\n",
      "My implementation          : 455556c6db1377df6e52b10cc41fb67ceb7f4288cd259af6ff459acd4faf5e34\n"
     ]
    }
   ],
   "source": [
    "message = get_random_bytes(N)\n",
    "\n",
    "t1 = SHA256.SHA256Hash(message)\n",
    "t2 = HW_SHA256(message)\n",
    "\n",
    "print(\"Message:\\n\\n\" + str(message), end='\\n\\n')\n",
    "print(\"Crypto.Hash implementation : \" + t1.hexdigest())\n",
    "print(\"My implementation          : \" + t2.hex)"
   ]
  },
  {
   "cell_type": "markdown",
   "metadata": {
    "ExecuteTime": {
     "end_time": "2020-05-23T14:37:02.669888Z",
     "start_time": "2020-05-23T14:37:02.664117Z"
    }
   },
   "source": [
    "# AES-128 key gen"
   ]
  },
  {
   "cell_type": "code",
   "execution_count": 42,
   "metadata": {
    "ExecuteTime": {
     "end_time": "2020-05-24T08:36:10.055545Z",
     "start_time": "2020-05-24T08:36:09.995491Z"
    }
   },
   "outputs": [
    {
     "name": "stdout",
     "output_type": "stream",
     "text": [
      "Generated key : b'I\\xcb\\xd6h^\\xe8(o\\xb8\\xcd\\x82\\xd4\\xde\\xa9\\x97\\x90'\n",
      "Hexdigest     : 49cbd6685ee8286fb8cd82d4dea99790\n",
      "Key bit-length: 128\n"
     ]
    }
   ],
   "source": [
    "key = b\"some key\"\n",
    "\n",
    "sha = HW_SHA256(key)\n",
    "print(f\"Generated key : {sha.aes_128_key_bytes}\\n\" +\n",
    "      f\"Hexdigest     : {sha.aes_128_key_hex_dec}\\n\" + \n",
    "      f\"Key bit-length: {len(sha.aes_128_key_bytes) * 8}\") "
   ]
  },
  {
   "cell_type": "markdown",
   "metadata": {},
   "source": [
    "# HMAC"
   ]
  },
  {
   "cell_type": "code",
   "execution_count": 2,
   "metadata": {
    "ExecuteTime": {
     "end_time": "2020-05-24T08:22:51.078401Z",
     "start_time": "2020-05-24T08:22:51.075198Z"
    }
   },
   "outputs": [],
   "source": [
    "from Crypto.Hash import HMAC\n",
    "from SHA256 import HMAC as HW_HMAC"
   ]
  },
  {
   "cell_type": "code",
   "execution_count": 38,
   "metadata": {
    "ExecuteTime": {
     "end_time": "2020-05-24T08:26:02.967637Z",
     "start_time": "2020-05-24T08:26:02.962839Z"
    }
   },
   "outputs": [
    {
     "data": {
      "text/plain": [
       "(124, 540)"
      ]
     },
     "execution_count": 38,
     "metadata": {},
     "output_type": "execute_result"
    }
   ],
   "source": [
    "key_length = randint(0, 800)\n",
    "message_length = randint(0, 5120)\n",
    "\n",
    "key_length, message_length"
   ]
  },
  {
   "cell_type": "code",
   "execution_count": 39,
   "metadata": {
    "ExecuteTime": {
     "end_time": "2020-05-24T08:26:05.670349Z",
     "start_time": "2020-05-24T08:26:04.837857Z"
    }
   },
   "outputs": [
    {
     "name": "stdout",
     "output_type": "stream",
     "text": [
      "Key:\n",
      "\n",
      "b'\\x1c0\\xda\\xdf\\x93\\x14Ix\\xafH$\\xb7\\r@\\xef\\x00\\x84\\x13T\\xabUSSY\\xbef{V\\x10\\x07\\nw\\xbc`\\xf0\\x8a\\xc4\\xd68\\t\\x07\\xb77oY\\x03\\xb0\\'\\xf2\\x10\\x02\\x91\\x13\\x83\\xa6x\\xdd\\xa6\\x0e\\x00\\x15\\x9ae[}\\x14b=\\x81\\xb3\"\\xd8\\x9b\\xccH\\x8d\\xbfP\\xf1E\\xf4\\x08FOd;\\xc1\\x00\\x9a\\x8b\\xb0&^`\\xe4\\x92\\x1fZO\\x17\\x03\\xff\\x9d\\xd1\\x9a3\\x7fh7b\\xcc\\xe1\\x99\\xe8O\\xb5\\xf2iD\\x15\\xbaHQ\\x98'\n",
      "\n",
      "Message:\n",
      "\n",
      "b'u\\x04%\\xf0\\xa0m+\\x16\\xdd~\\x82\\x91\\xe2ZoO\\x11\\x9d\\xd9\\xd0H$\\x10*\\xaa\\xb4\\xf8\\x80\\x9d\\x10G\\xce\\x01\\x11*3\\xc8\\x06\\xa1\\xd4\\xd0\\xa4\\xfc\\xe4`\\xb0p\\xb7\\x15\\x06\\xb8%\\xc3\\xfc\\x8b\\x02@\\xfb\\xa5\\xe8ZkO)\\xe27\\xee\\x88A\\x06\\x86Q\\xfe9S\\xae\\x8f\\x93\\\\\\x9e\"Z\\xc9\\xe25\\xaf?\\x0f\\xd3m\\xe1\\xaa\\xfb\\rfPX\\x82J\\xa4\\x97\\x9f\\xf6OK#;\\x8b[\\xb3\\x17\\xdf\\x8c\\x04\\xa0\\xc4\\xdb\\xf2\\xbc\\x03\\xb5Q\\xfd\\xdf\\t9\\x1a\\xf3\\xb2r\\x94\\xe8\\x1b-\\xf0E\\x84S\\x07\\xd3Hz\\x11\\xac\\x15|tM\\x825\\xe4\\xd3\\xc2M\\xc8$J\\x8d\\xe7\\xaa\\xf0\\x9c\\xbd\\xc0\\xa2\\x1c?\\x02a\\xc9\\x1a\\xd9\\xd3F\\xef\\'W\\xfcX\\x99F\\xfa\\xea/J\\x96\\xd0e\\x97zD\\x11\\xa5\\x1e$\\xef\\xa8j\\xd27\\xf6\\x83a\\x1a0\\x05\\xda\\x05\\xban\\xa0\\x93\\x06i$-z\\xfdx\\xca\\xda{\\xc9\\xb7X\\x14\\xb7\\xa6!?\\x1fU\\xb9\\x95d\\x83\\xddu\\xce]\\xe7\\x1c\\xc2z\\x81\\xbd\\xc7\\xf3\\x9c\\xb8_zy!|\\xe6\\xa5CT?\\x820\\x01j\\xa0P\\x03\\xb1\\x0e\\x8c\\xb0\\x98\\xea@\\xa6\\xed\\x87;O\\x84n\\x91\\x04\\xd2\\x01\\x0b^\\x11\\xe8\\xccA\\x07i\\xf7\\x9cv\\xb5Y\\xad6\\r8\\x96C\\xcb\\xea\\xbc\\xb9\\xb1\\xe5\\x9c=wII\\x99\\r\\xdd\\xe4\\x02\\xdb\\xfd\\xa5\\x0b\\x99\\xd3\\xe8\\x86+\\xac~J,\\x81\\xc4z\\xa8y\\x93V\\x05\\xf1\\xddHg\\xf17\\xb0qR\\xa7W\\xa1\\x05ZQQ\\xc3`\\xcf=\\xe7\\xcc\\xd5\\xa7\\x8d\\xc0\\x1a\\xe8\\xa4(\\xa9\\x11\\xfa\\t\\tSz2AL\\xa6!\":\\x9d\\xc5WIG\\x01,@\\xaa\\x94 \\xbaX\\xdc\\xdd\\xa8\\x80RpN\\xed\\xecw\\xef!\\xa1m\\xe9\\xef\\n\\x05[\\xb1\\xb4\\\\\\x8e\\xf00\\x9b\\xd6(j\\xb7.U\\xeb\\xae\\xf2&\\xd4\\xfe\\x7f\\xec\\xb9\\xf1\\x15MF3\\x0e\\x87O\\xc8Ah\\xc7o\\x82T\\xa6@&\\x12\\xce\\nv\\xf6\\xd3{$\\xca\\x08&\"$\\xc9i\\x9fa\\x87\\xd6\\xe9{D\\xacp OoF*\\'\\xec\\x83M\\x07\\xebz\\xaf\\xe6\\x87\\x8e\\xdbH \\x7f#\\xd5g\\x17\\x89\\xf0yMW\\xcb\\\\`\\xd65sgJ\\x08j\\xb6\\xc3\\x1b\\x08>Zp\\xb6\\x8e\\xd8\\x1cd=\\xbb\\x8b\\x84_]\\x87V'\n",
      "\n",
      "Crypto.Hash implementation : 7be170609e8b3a617ab73b1712abfe2cd2f4126de641ce5df380b79f186aef09\n",
      "My implementation          : 7be170609e8b3a617ab73b1712abfe2cd2f4126de641ce5df380b79f186aef09\n"
     ]
    }
   ],
   "source": [
    "message = get_random_bytes(message_length)\n",
    "key = get_random_bytes(key_length)\n",
    "\n",
    "t1 = HMAC.new(key=key, msg=message, digestmod=SHA256)\n",
    "t2 = HW_HMAC(key, message)\n",
    "\n",
    "print(\"Key:\\n\\n\" + str(key), end='\\n\\n')\n",
    "print(\"Message:\\n\\n\" + str(message), end='\\n\\n')\n",
    "print(\"Crypto.Hash implementation : \" + t1.hexdigest())\n",
    "print(\"My implementation          : \" + t2.hex)"
   ]
  }
 ],
 "metadata": {
  "kernelspec": {
   "display_name": "Python 3",
   "language": "python",
   "name": "python3"
  },
  "language_info": {
   "codemirror_mode": {
    "name": "ipython",
    "version": 3
   },
   "file_extension": ".py",
   "mimetype": "text/x-python",
   "name": "python",
   "nbconvert_exporter": "python",
   "pygments_lexer": "ipython3",
   "version": "3.7.4"
  }
 },
 "nbformat": 4,
 "nbformat_minor": 4
}
