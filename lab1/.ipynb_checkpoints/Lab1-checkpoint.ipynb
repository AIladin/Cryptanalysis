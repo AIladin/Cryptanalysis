{
 "cells": [
  {
   "cell_type": "code",
   "execution_count": 1,
   "metadata": {
    "ExecuteTime": {
     "end_time": "2020-02-20T16:59:52.023089Z",
     "start_time": "2020-02-20T16:59:52.014429Z"
    }
   },
   "outputs": [],
   "source": [
    "%load_ext autoreload\n",
    "%autoreload 1"
   ]
  },
  {
   "cell_type": "code",
   "execution_count": 2,
   "metadata": {
    "ExecuteTime": {
     "end_time": "2020-02-20T16:59:52.778731Z",
     "start_time": "2020-02-20T16:59:52.026010Z"
    }
   },
   "outputs": [],
   "source": [
    "%aimport vigenere_cipher, vigenere_cryptoanalysis, utils\n",
    "\n",
    "import matplotlib.pyplot as plt\n",
    "from itertools import zip_longest\n",
    "import re"
   ]
  },
  {
   "cell_type": "markdown",
   "metadata": {},
   "source": [
    "# Гістограма частот появ літер в тексті\n"
   ]
  },
  {
   "cell_type": "code",
   "execution_count": 3,
   "metadata": {
    "ExecuteTime": {
     "end_time": "2020-02-20T16:59:53.011632Z",
     "start_time": "2020-02-20T16:59:52.779912Z"
    }
   },
   "outputs": [
    {
     "data": {
      "image/png": "[encoded data removed]",
      "text/plain": [
       "<Figure size 432x288 with 1 Axes>"
      ]
     },
     "metadata": {
      "needs_background": "light"
     },
     "output_type": "display_data"
    }
   ],
   "source": [
    "plt.bar(list(utils.UKRAINIAN_LETTER_FREQUENCES.keys()),\n",
    "        list(utils.UKRAINIAN_LETTER_FREQUENCES.values()));"
   ]
  },
  {
   "cell_type": "markdown",
   "metadata": {},
   "source": [
    "# Алгоритм ВІженера"
   ]
  },
  {
   "cell_type": "code",
   "execution_count": 4,
   "metadata": {
    "ExecuteTime": {
     "end_time": "2020-02-20T16:59:53.131606Z",
     "start_time": "2020-02-20T16:59:53.012813Z"
    }
   },
   "outputs": [],
   "source": [
    "pt = \"веснакраснаколисьприйде\"\n",
    "key = \"зима\""
   ]
  },
  {
   "cell_type": "code",
   "execution_count": 5,
   "metadata": {
    "ExecuteTime": {
     "end_time": "2020-02-20T16:59:53.378166Z",
     "start_time": "2020-02-20T16:59:53.138220Z"
    }
   },
   "outputs": [
    {
     "data": {
      "text/plain": [
       "'імґнзфгаьчмкчхцсещгитлт'"
      ]
     },
     "execution_count": 5,
     "metadata": {},
     "output_type": "execute_result"
    }
   ],
   "source": [
    "ct = vigenere_cipher.encrypt(key, pt)\n",
    "ct"
   ]
  },
  {
   "cell_type": "code",
   "execution_count": 6,
   "metadata": {
    "ExecuteTime": {
     "end_time": "2020-02-20T16:59:53.614624Z",
     "start_time": "2020-02-20T16:59:53.380799Z"
    }
   },
   "outputs": [
    {
     "data": {
      "text/plain": [
       "'веснакраснаколисьприйде'"
      ]
     },
     "execution_count": 6,
     "metadata": {},
     "output_type": "execute_result"
    }
   ],
   "source": [
    "vigenere_cipher.decrypt(key, ct)"
   ]
  },
  {
   "cell_type": "markdown",
   "metadata": {},
   "source": [
    "# Криптоаналіз"
   ]
  },
  {
   "cell_type": "markdown",
   "metadata": {},
   "source": [
    "## Катерина"
   ]
  },
  {
   "cell_type": "code",
   "execution_count": 7,
   "metadata": {
    "ExecuteTime": {
     "end_time": "2020-02-20T16:59:53.970797Z",
     "start_time": "2020-02-20T16:59:53.616257Z"
    },
    "scrolled": true
   },
   "outputs": [
    {
     "data": {
      "text/plain": [
       "14"
      ]
     },
     "execution_count": 7,
     "metadata": {},
     "output_type": "execute_result"
    }
   ],
   "source": [
    "pt = utils.read_file('катерина.txt')\n",
    "key = \"дужегарнийключ\"\n",
    "len(key)"
   ]
  },
  {
   "cell_type": "code",
   "execution_count": 8,
   "metadata": {
    "ExecuteTime": {
     "end_time": "2020-02-20T16:59:54.326645Z",
     "start_time": "2020-02-20T16:59:53.975958Z"
    }
   },
   "outputs": [],
   "source": [
    "ct = vigenere_cipher.encrypt(key, pt)"
   ]
  },
  {
   "cell_type": "code",
   "execution_count": 9,
   "metadata": {
    "ExecuteTime": {
     "end_time": "2020-02-20T16:59:55.542672Z",
     "start_time": "2020-02-20T16:59:54.328554Z"
    }
   },
   "outputs": [
    {
     "name": "stdout",
     "output_type": "stream",
     "text": [
      "[1/3] ### Key length: 28\n",
      "[2/3] ### Key: дужегарнийключдужегарнийключ\n",
      "[3/3] ### Finished!\n"
     ]
    }
   ],
   "source": [
    "dt = vigenere_cryptoanalysis.analyze_encrypted_text(ct)"
   ]
  },
  {
   "cell_type": "code",
   "execution_count": 10,
   "metadata": {
    "ExecuteTime": {
     "end_time": "2020-02-20T16:59:55.553351Z",
     "start_time": "2020-02-20T16:59:55.544054Z"
    }
   },
   "outputs": [
    {
     "data": {
      "text/plain": [
       "0.0"
      ]
     },
     "execution_count": 10,
     "metadata": {},
     "output_type": "execute_result"
    }
   ],
   "source": [
    "utils.check_error(pt, dt)"
   ]
  },
  {
   "cell_type": "code",
   "execution_count": 11,
   "metadata": {
    "ExecuteTime": {
     "end_time": "2020-02-20T16:59:56.143802Z",
     "start_time": "2020-02-20T16:59:55.555391Z"
    }
   },
   "outputs": [
    {
     "data": {
      "text/plain": [
       "('катеринавасилиюандреевичужуковскомунапамятьапреляг',\n",
       " 'катеринавасилиюандреевичужуковскомунапамятьапреляг')"
      ]
     },
     "execution_count": 11,
     "metadata": {},
     "output_type": "execute_result"
    }
   ],
   "source": [
    "pt[:50], dt[:50]"
   ]
  },
  {
   "cell_type": "markdown",
   "metadata": {},
   "source": [
    "## Заповіт"
   ]
  },
  {
   "cell_type": "code",
   "execution_count": 12,
   "metadata": {
    "ExecuteTime": {
     "end_time": "2020-02-20T16:59:56.599298Z",
     "start_time": "2020-02-20T16:59:56.147997Z"
    },
    "scrolled": true
   },
   "outputs": [
    {
     "data": {
      "text/plain": [
       "7"
      ]
     },
     "execution_count": 12,
     "metadata": {},
     "output_type": "execute_result"
    }
   ],
   "source": [
    "pt = utils.read_file('заповіт.txt')\n",
    "key = \"заповіт\"\n",
    "len(key)"
   ]
  },
  {
   "cell_type": "code",
   "execution_count": 13,
   "metadata": {
    "ExecuteTime": {
     "end_time": "2020-02-20T16:59:56.863306Z",
     "start_time": "2020-02-20T16:59:56.604920Z"
    }
   },
   "outputs": [],
   "source": [
    "ct = vigenere_cipher.encrypt(key, pt)"
   ]
  },
  {
   "cell_type": "code",
   "execution_count": 14,
   "metadata": {
    "ExecuteTime": {
     "end_time": "2020-02-20T16:59:57.374504Z",
     "start_time": "2020-02-20T16:59:56.869899Z"
    }
   },
   "outputs": [
    {
     "name": "stdout",
     "output_type": "stream",
     "text": [
      "[1/3] ### Key length: 21\n",
      "[2/3] ### Key: заповітзгровітіагояїт\n",
      "[3/3] ### Finished!\n"
     ]
    }
   ],
   "source": [
    "dt = vigenere_cryptoanalysis.analyze_encrypted_text(ct)"
   ]
  },
  {
   "cell_type": "code",
   "execution_count": 15,
   "metadata": {
    "ExecuteTime": {
     "end_time": "2020-02-20T16:59:57.575254Z",
     "start_time": "2020-02-20T16:59:57.377026Z"
    }
   },
   "outputs": [
    {
     "data": {
      "text/plain": [
       "0.28412256267409475"
      ]
     },
     "execution_count": 15,
     "metadata": {},
     "output_type": "execute_result"
    }
   ],
   "source": [
    "utils.check_error(pt, dt)"
   ]
  },
  {
   "cell_type": "code",
   "execution_count": 16,
   "metadata": {
    "ExecuteTime": {
     "end_time": "2020-02-20T16:59:57.921383Z",
     "start_time": "2020-02-20T16:59:57.577438Z"
    }
   },
   "outputs": [
    {
     "data": {
      "text/plain": [
       "'якумрутопоховайтемененамогилісередстепуширокогонавкраїнімилійщобланиширокополіідніпроікручібуловиднобулочутиякреверевучийякпонесезукраїниусинєєморекровворожуотойдіяіланиігоривсепокинуіполинудосамогобогамолитисяадотогоянезнаюбогапоховайтетавставайтекайданипорвітеівражоюзлоюкровюволюокропітеіменевсемївеликійвсемївольнійновійнезабудьтепомянутинезлимтихимсловом'"
      ]
     },
     "execution_count": 16,
     "metadata": {},
     "output_type": "execute_result"
    }
   ],
   "source": [
    "pt"
   ]
  },
  {
   "cell_type": "code",
   "execution_count": 17,
   "metadata": {
    "ExecuteTime": {
     "end_time": "2020-02-20T16:59:58.158864Z",
     "start_time": "2020-02-20T16:59:57.928389Z"
    }
   },
   "outputs": [
    {
     "data": {
      "text/plain": [
       "'якумрутомнховаіттмзменамогиліодредсревуюзрокогонавіпаїнікиюімшобланиширлйоползіснкороікручібрковидлонуончутиякревгпевучжйлктннесезукразмиусилєумспекроввородтотойгіліояниігоривсгоокинсівоознудосамоглаогаммлцтйряадотогоякдзнаюяопатнховайтетаяртаваітткгїданипорвіпдівраеокзонюкровюволшнкропзттіпдневсемївеїзкійвпеяїднльнійновіимезабсдйтзоомянутинеекимтиуиясонвом'"
      ]
     },
     "execution_count": 17,
     "metadata": {},
     "output_type": "execute_result"
    }
   ],
   "source": [
    "dt"
   ]
  },
  {
   "cell_type": "markdown",
   "metadata": {},
   "source": [
    "## Чорна рада (уривок)"
   ]
  },
  {
   "cell_type": "code",
   "execution_count": 18,
   "metadata": {
    "ExecuteTime": {
     "end_time": "2020-02-20T16:59:58.503633Z",
     "start_time": "2020-02-20T16:59:58.164136Z"
    }
   },
   "outputs": [
    {
     "data": {
      "text/plain": [
       "4"
      ]
     },
     "execution_count": 18,
     "metadata": {},
     "output_type": "execute_result"
    }
   ],
   "source": [
    "pt = utils.read_file('rada.txt')\n",
    "key = 'зима'\n",
    "len(key)"
   ]
  },
  {
   "cell_type": "code",
   "execution_count": 19,
   "metadata": {
    "ExecuteTime": {
     "end_time": "2020-02-20T16:59:58.748033Z",
     "start_time": "2020-02-20T16:59:58.506089Z"
    }
   },
   "outputs": [],
   "source": [
    "ct = vigenere_cipher.encrypt(key, pt)"
   ]
  },
  {
   "cell_type": "code",
   "execution_count": 20,
   "metadata": {
    "ExecuteTime": {
     "end_time": "2020-02-20T16:59:59.452805Z",
     "start_time": "2020-02-20T16:59:58.751962Z"
    }
   },
   "outputs": [
    {
     "name": "stdout",
     "output_type": "stream",
     "text": [
      "[1/3] ### Key length: 20\n",
      "[2/3] ### Key: зимазимазимазимазима\n",
      "[3/3] ### Finished!\n"
     ]
    }
   ],
   "source": [
    "dt = vigenere_cryptoanalysis.analyze_encrypted_text(ct)"
   ]
  },
  {
   "cell_type": "code",
   "execution_count": 21,
   "metadata": {
    "ExecuteTime": {
     "end_time": "2020-02-20T16:59:59.461988Z",
     "start_time": "2020-02-20T16:59:59.454408Z"
    }
   },
   "outputs": [
    {
     "data": {
      "text/plain": [
       "0.0"
      ]
     },
     "execution_count": 21,
     "metadata": {},
     "output_type": "execute_result"
    }
   ],
   "source": [
    "utils.check_error(pt, dt)"
   ]
  }
 ],
 "metadata": {
  "kernelspec": {
   "display_name": "Python 3",
   "language": "python",
   "name": "python3"
  },
  "language_info": {
   "codemirror_mode": {
    "name": "ipython",
    "version": 3
   },
   "file_extension": ".py",
   "mimetype": "text/x-python",
   "name": "python",
   "nbconvert_exporter": "python",
   "pygments_lexer": "ipython3",
   "version": "3.7.4"
  }
 },
 "nbformat": 4,
 "nbformat_minor": 2
}
