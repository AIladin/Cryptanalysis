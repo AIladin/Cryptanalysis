{
 "cells": [
  {
   "cell_type": "code",
   "execution_count": null,
   "metadata": {
    "ExecuteTime": {
     "start_time": "2020-02-20T16:42:19.544Z"
    }
   },
   "outputs": [],
   "source": [
    "%load_ext autoreload\n",
    "%autoreload 1"
   ]
  },
  {
   "cell_type": "code",
   "execution_count": null,
   "metadata": {
    "ExecuteTime": {
     "start_time": "2020-02-20T16:39:25.432Z"
    }
   },
   "outputs": [],
   "source": [
    "%aimport vigenere_cipher, vigenere_cryptoanalysis, utils\n",
    "\n",
    "import matplotlib.pyplot as plt\n",
    "from itertools import zip_longest\n",
    "import re"
   ]
  },
  {
   "cell_type": "markdown",
   "metadata": {},
   "source": [
    "# Гістограма частот появ літер в тексті\n"
   ]
  },
  {
   "cell_type": "code",
   "execution_count": null,
   "metadata": {
    "ExecuteTime": {
     "start_time": "2020-02-20T16:40:03.808Z"
    }
   },
   "outputs": [],
   "source": [
    "plt.bar(list(vigenere_cipher.UKRAINIAN_LETTER_FREQUENCES.keys()),\n",
    "        list(vigenere_cipher.UKRAINIAN_LETTER_FREQUENCES.values()));"
   ]
  },
  {
   "cell_type": "markdown",
   "metadata": {},
   "source": [
    "# Алгоритм ВІженера"
   ]
  },
  {
   "cell_type": "code",
   "execution_count": 4,
   "metadata": {},
   "outputs": [],
   "source": [
    "pt = utils.read_file('заповіт.txt')pt = \"веснакраснаколисьприйде\"\n",
    "key = \"зима\""
   ]
  },
  {
   "cell_type": "code",
   "execution_count": 5,
   "metadata": {},
   "outputs": [
    {
     "data": {
      "text/plain": [
       "'імґнзфгаьчмкчхцсещгитлт'"
      ]
     },
     "execution_count": 5,
     "metadata": {},
     "output_type": "execute_result"
    }
   ],
   "source": [
    "ct = vigenere_cipher.encrypt(key, pt)\n",
    "ct"
   ]
  },
  {
   "cell_type": "code",
   "execution_count": 6,
   "metadata": {},
   "outputs": [
    {
     "data": {
      "text/plain": [
       "'веснакраснаколисьприйде'"
      ]
     },
     "execution_count": 6,
     "metadata": {},
     "output_type": "execute_result"
    }
   ],
   "source": [
    "vigenere_cipher.decrypt(key, ct)"
   ]
  },
  {
   "cell_type": "markdown",
   "metadata": {},
   "source": [
    "# Криптоаналіз"
   ]
  },
  {
   "cell_type": "markdown",
   "metadata": {},
   "source": [
    "## Катерина"
   ]
  },
  {
   "cell_type": "code",
   "execution_count": 7,
   "metadata": {
    "scrolled": true
   },
   "outputs": [
    {
     "data": {
      "text/plain": [
       "14"
      ]
     },
     "execution_count": 7,
     "metadata": {},
     "output_type": "execute_result"
    }
   ],
   "source": [
    "pt = utils.read_file('катерина.txt')\n",
    "key = \"дужегарнийключ\"\n",
    "len(key)"
   ]
  },
  {
   "cell_type": "code",
   "execution_count": 8,
   "metadata": {},
   "outputs": [],
   "source": [
    "ct = vigenere_cipher.encrypt(key, pt)"
   ]
  },
  {
   "cell_type": "code",
   "execution_count": 9,
   "metadata": {},
   "outputs": [
    {
     "name": "stdout",
     "output_type": "stream",
     "text": [
      "[1/3] ### Key length: 28\n",
      "[2/3] ### Key: дужегарнийключдужегарнийключ\n",
      "[3/3] ### Finished!\n"
     ]
    }
   ],
   "source": [
    "dt = vigenere_cryptoanalysis.analyze_encrypted_text(ct)"
   ]
  },
  {
   "cell_type": "code",
   "execution_count": 10,
   "metadata": {},
   "outputs": [
    {
     "data": {
      "text/plain": [
       "0.0"
      ]
     },
     "execution_count": 10,
     "metadata": {},
     "output_type": "execute_result"
    }
   ],
   "source": [
    "utils.check_error(pt, dt)"
   ]
  },
  {
   "cell_type": "code",
   "execution_count": 11,
   "metadata": {},
   "outputs": [
    {
     "data": {
      "text/plain": [
       "('катеринавасилиюандреевичужуковскомунапамятьапреляг',\n",
       " 'катеринавасилиюандреевичужуковскомунапамятьапреляг')"
      ]
     },
     "execution_count": 11,
     "metadata": {},
     "output_type": "execute_result"
    }
   ],
   "source": [
    "pt[:50], dt[:50]"
   ]
  },
  {
   "cell_type": "markdown",
   "metadata": {},
   "source": [
    "## Заповіт"
   ]
  },
  {
   "cell_type": "code",
   "execution_count": 12,
   "metadata": {
    "scrolled": true
   },
   "outputs": [
    {
     "data": {
      "text/plain": [
       "7"
      ]
     },
     "execution_count": 12,
     "metadata": {},
     "output_type": "execute_result"
    }
   ],
   "source": [
    "pt = utils.read_file('заповіт.txt')\n",
    "key = \"заповіт\"\n",
    "len(key)"
   ]
  },
  {
   "cell_type": "code",
   "execution_count": 13,
   "metadata": {},
   "outputs": [],
   "source": [
    "ct = vigenere_cipher.encrypt(key, pt)"
   ]
  },
  {
   "cell_type": "code",
   "execution_count": 14,
   "metadata": {},
   "outputs": [
    {
     "name": "stdout",
     "output_type": "stream",
     "text": [
      "[1/3] ### Key length: 21\n",
      "[2/3] ### Key: заповітзгровітіагояїт\n",
      "[3/3] ### Finished!\n"
     ]
    }
   ],
   "source": [
    "dt = vigenere_cryptoanalysis.analyze_encrypted_text(ct)"
   ]
  },
  {
   "cell_type": "code",
   "execution_count": 15,
   "metadata": {},
   "outputs": [
    {
     "data": {
      "text/plain": [
       "0.28412256267409475"
      ]
     },
     "execution_count": 15,
     "metadata": {},
     "output_type": "execute_result"
    }
   ],
   "source": [
    "utils.check_error(pt, dt)"
   ]
  },
  {
   "cell_type": "code",
   "execution_count": 16,
   "metadata": {},
   "outputs": [
    {
     "data": {
      "text/plain": [
       "'якумрутопоховайтемененамогилісередстепуширокогонавкраїнімилійщобланиширокополіідніпроікручібуловиднобулочутиякреверевучийякпонесезукраїниусинєєморекровворожуотойдіяіланиігоривсепокинуіполинудосамогобогамолитисяадотогоянезнаюбогапоховайтетавставайтекайданипорвітеівражоюзлоюкровюволюокропітеіменевсемївеликійвсемївольнійновійнезабудьтепомянутинезлимтихимсловом'"
      ]
     },
     "execution_count": 16,
     "metadata": {},
     "output_type": "execute_result"
    }
   ],
   "source": [
    "pt"
   ]
  },
  {
   "cell_type": "code",
   "execution_count": 17,
   "metadata": {},
   "outputs": [
    {
     "data": {
      "text/plain": [
       "'якумрутомнховаіттмзменамогиліодредсревуюзрокогонавіпаїнікиюімшобланиширлйоползіснкороікручібрковидлонуончутиякревгпевучжйлктннесезукразмиусилєумспекроввородтотойгіліояниігоривсгоокинсівоознудосамоглаогаммлцтйряадотогоякдзнаюяопатнховайтетаяртаваітткгїданипорвіпдівраеокзонюкровюволшнкропзттіпдневсемївеїзкійвпеяїднльнійновіимезабсдйтзоомянутинеекимтиуиясонвом'"
      ]
     },
     "execution_count": 17,
     "metadata": {},
     "output_type": "execute_result"
    }
   ],
   "source": [
    "dt"
   ]
  },
  {
   "cell_type": "markdown",
   "metadata": {},
   "source": [
    "## Чорна рада (уривок)"
   ]
  },
  {
   "cell_type": "code",
   "execution_count": 23,
   "metadata": {},
   "outputs": [
    {
     "data": {
      "text/plain": [
       "4"
      ]
     },
     "execution_count": 23,
     "metadata": {},
     "output_type": "execute_result"
    }
   ],
   "source": [
    "pt = utils.read_file('rada.txt')\n",
    "key = 'зима'\n",
    "len(key)"
   ]
  },
  {
   "cell_type": "code",
   "execution_count": 24,
   "metadata": {},
   "outputs": [],
   "source": [
    "ct = vigenere_cipher.encrypt(key, pt)"
   ]
  },
  {
   "cell_type": "code",
   "execution_count": 25,
   "metadata": {},
   "outputs": [
    {
     "name": "stdout",
     "output_type": "stream",
     "text": [
      "[1/3] ### Key length: 20\n",
      "[2/3] ### Key: зимазимазимазимазима\n",
      "[3/3] ### Finished!\n"
     ]
    }
   ],
   "source": [
    "dt = vigenere_cryptoanalysis.analyze_encrypted_text(ct)"
   ]
  },
  {
   "cell_type": "code",
   "execution_count": 26,
   "metadata": {},
   "outputs": [
    {
     "data": {
      "text/plain": [
       "0.0"
      ]
     },
     "execution_count": 26,
     "metadata": {},
     "output_type": "execute_result"
    }
   ],
   "source": [
    "utils.check_error(pt, dt)"
   ]
  }
 ],
 "metadata": {
  "kernelspec": {
   "display_name": "Python 3",
   "language": "python",
   "name": "python3"
  },
  "language_info": {
   "codemirror_mode": {
    "name": "ipython",
    "version": 3
   },
   "file_extension": ".py",
   "mimetype": "text/x-python",
   "name": "python",
   "nbconvert_exporter": "python",
   "pygments_lexer": "ipython3",
   "version": "3.7.4"
  }
 },
 "nbformat": 4,
 "nbformat_minor": 2
}
