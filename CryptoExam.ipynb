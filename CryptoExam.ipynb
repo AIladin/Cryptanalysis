{
 "cells": [
  {
   "cell_type": "code",
   "execution_count": 1,
   "metadata": {
    "ExecuteTime": {
     "end_time": "2020-06-16T04:45:10.659893Z",
     "start_time": "2020-06-16T04:45:10.646249Z"
    }
   },
   "outputs": [],
   "source": [
    "import warnings\n",
    "warnings.filterwarnings('ignore')"
   ]
  },
  {
   "cell_type": "code",
   "execution_count": 2,
   "metadata": {
    "ExecuteTime": {
     "end_time": "2020-06-16T04:45:11.122460Z",
     "start_time": "2020-06-16T04:45:10.662758Z"
    }
   },
   "outputs": [],
   "source": [
    "%load_ext autoreload\n",
    "%autoreload 1"
   ]
  },
  {
   "cell_type": "code",
   "execution_count": 3,
   "metadata": {
    "ExecuteTime": {
     "end_time": "2020-06-16T04:45:14.186487Z",
     "start_time": "2020-06-16T04:45:11.124390Z"
    }
   },
   "outputs": [],
   "source": [
    "%aimport lab2.AES\n",
    "%aimport lab2.ByteGF\n",
    "%aimport lab3.SHA256\n",
    "%aimport lab4.RSA\n",
    "%aimport no_lab.rc4"
   ]
  },
  {
   "cell_type": "code",
   "execution_count": 13,
   "metadata": {
    "ExecuteTime": {
     "end_time": "2020-06-16T04:47:59.592739Z",
     "start_time": "2020-06-16T04:47:59.585740Z"
    }
   },
   "outputs": [],
   "source": [
    "from bitstring import Bits"
   ]
  },
  {
   "cell_type": "markdown",
   "metadata": {},
   "source": [
    "# 8\n",
    "f1e470ab ⊕ (d3f70bc4 <<< 7)."
   ]
  },
  {
   "cell_type": "code",
   "execution_count": 170,
   "metadata": {
    "ExecuteTime": {
     "end_time": "2020-06-16T06:06:47.075002Z",
     "start_time": "2020-06-16T06:06:47.069730Z"
    }
   },
   "outputs": [],
   "source": [
    "from bitstring import BitArray"
   ]
  },
  {
   "cell_type": "code",
   "execution_count": 171,
   "metadata": {
    "ExecuteTime": {
     "end_time": "2020-06-16T06:06:47.571705Z",
     "start_time": "2020-06-16T06:06:47.562950Z"
    }
   },
   "outputs": [],
   "source": [
    "a = BitArray('0xf1e470ab')\n",
    "b = BitArray('0xd3f70bc4')\n",
    "b.rol(7)"
   ]
  },
  {
   "cell_type": "code",
   "execution_count": 172,
   "metadata": {
    "ExecuteTime": {
     "end_time": "2020-06-16T06:06:47.961571Z",
     "start_time": "2020-06-16T06:06:47.955537Z"
    }
   },
   "outputs": [
    {
     "data": {
      "text/plain": [
       "BitArray('0x0a6192c2')"
      ]
     },
     "execution_count": 172,
     "metadata": {},
     "output_type": "execute_result"
    }
   ],
   "source": [
    "a.__ixor__(b)\n",
    "a"
   ]
  },
  {
   "cell_type": "markdown",
   "metadata": {},
   "source": [
    "# 2"
   ]
  },
  {
   "cell_type": "code",
   "execution_count": 23,
   "metadata": {
    "ExecuteTime": {
     "end_time": "2020-06-16T05:14:32.848983Z",
     "start_time": "2020-06-16T05:14:32.837873Z"
    }
   },
   "outputs": [
    {
     "data": {
      "text/plain": [
       "('58', '01011000')"
      ]
     },
     "execution_count": 23,
     "metadata": {},
     "output_type": "execute_result"
    }
   ],
   "source": [
    "#10.12\n",
    "a = int(344) % int(256)\n",
    "bin_a = Bits(hex(a))\n",
    "bin_a.hex, bin_a.bin"
   ]
  },
  {
   "cell_type": "code",
   "execution_count": 35,
   "metadata": {
    "ExecuteTime": {
     "end_time": "2020-06-16T05:16:24.198731Z",
     "start_time": "2020-06-16T05:16:24.174209Z"
    }
   },
   "outputs": [
    {
     "data": {
      "text/plain": [
       "array(a2, dtype=object)"
      ]
     },
     "execution_count": 35,
     "metadata": {},
     "output_type": "execute_result"
    }
   ],
   "source": [
    "t = lab2.AES.sub_bytes(lab2.ByteGF.BitGF(bin_a))\n",
    "t"
   ]
  },
  {
   "cell_type": "code",
   "execution_count": 36,
   "metadata": {
    "ExecuteTime": {
     "end_time": "2020-06-16T05:16:24.694174Z",
     "start_time": "2020-06-16T05:16:24.682064Z"
    }
   },
   "outputs": [
    {
     "data": {
      "text/plain": [
       "'x^7+x^5+x^1'"
      ]
     },
     "execution_count": 36,
     "metadata": {},
     "output_type": "execute_result"
    }
   ],
   "source": [
    "str(t)"
   ]
  },
  {
   "cell_type": "markdown",
   "metadata": {
    "ExecuteTime": {
     "end_time": "2020-06-16T05:16:18.786898Z",
     "start_time": "2020-06-16T05:16:18.762519Z"
    }
   },
   "source": [
    "# 4"
   ]
  },
  {
   "cell_type": "code",
   "execution_count": 40,
   "metadata": {
    "ExecuteTime": {
     "end_time": "2020-06-16T05:24:11.683061Z",
     "start_time": "2020-06-16T05:24:11.679718Z"
    }
   },
   "outputs": [
    {
     "data": {
      "text/plain": [
       "b'Andrii Korzhuk\\x80\\x00\\x00\\x00\\x00\\x00\\x00\\x00\\x00\\x00\\x00\\x00\\x00\\x00\\x00\\x00\\x00\\x00\\x00\\x00\\x00\\x00\\x00\\x00\\x00\\x00\\x00\\x00\\x00\\x00\\x00\\x00\\x00\\x00\\x00\\x00\\x00\\x00\\x00\\x00\\x00\\x00\\x00\\x00\\x00\\x00\\x00\\x00\\x00p'"
      ]
     },
     "execution_count": 40,
     "metadata": {},
     "output_type": "execute_result"
    }
   ],
   "source": [
    "lab3.SHA256.preprocessing.padding(b'Andrii Korzhuk')"
   ]
  },
  {
   "cell_type": "markdown",
   "metadata": {},
   "source": [
    "# 6"
   ]
  },
  {
   "cell_type": "code",
   "execution_count": 132,
   "metadata": {
    "ExecuteTime": {
     "end_time": "2020-06-16T05:49:39.764729Z",
     "start_time": "2020-06-16T05:49:39.759092Z"
    }
   },
   "outputs": [],
   "source": [
    "N = 1147\n",
    "R1 = IntegerModRing(N)"
   ]
  },
  {
   "cell_type": "code",
   "execution_count": 133,
   "metadata": {
    "ExecuteTime": {
     "end_time": "2020-06-16T05:49:41.074641Z",
     "start_time": "2020-06-16T05:49:41.067148Z"
    }
   },
   "outputs": [
    {
     "data": {
      "text/plain": [
       "1080"
      ]
     },
     "execution_count": 133,
     "metadata": {},
     "output_type": "execute_result"
    }
   ],
   "source": [
    "tot = euler_phi(N)\n",
    "tot"
   ]
  },
  {
   "cell_type": "code",
   "execution_count": 134,
   "metadata": {
    "ExecuteTime": {
     "end_time": "2020-06-16T05:49:41.555153Z",
     "start_time": "2020-06-16T05:49:41.548871Z"
    }
   },
   "outputs": [],
   "source": [
    "R = IntegerModRing(tot)\n",
    "e = R(3)"
   ]
  },
  {
   "cell_type": "code",
   "execution_count": 135,
   "metadata": {
    "ExecuteTime": {
     "end_time": "2020-06-16T05:49:42.079317Z",
     "start_time": "2020-06-16T05:49:42.051852Z"
    }
   },
   "outputs": [
    {
     "ename": "ZeroDivisionError",
     "evalue": "inverse of Mod(3, 1080) does not exist",
     "output_type": "error",
     "traceback": [
      "\u001b[0;31m---------------------------------------------------------------------------\u001b[0m",
      "\u001b[0;31mZeroDivisionError\u001b[0m                         Traceback (most recent call last)",
      "\u001b[0;32m<ipython-input-135-f9541beaf241>\u001b[0m in \u001b[0;36m<module>\u001b[0;34m()\u001b[0m\n\u001b[0;32m----> 1\u001b[0;31m \u001b[0md\u001b[0m \u001b[0;34m=\u001b[0m \u001b[0;34m~\u001b[0m\u001b[0me\u001b[0m\u001b[0;34m\u001b[0m\u001b[0;34m\u001b[0m\u001b[0m\n\u001b[0m\u001b[1;32m      2\u001b[0m \u001b[0md\u001b[0m\u001b[0;34m\u001b[0m\u001b[0;34m\u001b[0m\u001b[0m\n",
      "\u001b[0;32m/home/ailadin/anaconda3/envs/sage3/lib/python3.7/site-packages/sage/rings/finite_rings/integer_mod.pyx\u001b[0m in \u001b[0;36msage.rings.finite_rings.integer_mod.IntegerMod_int.__invert__ (build/cythonized/sage/rings/finite_rings/integer_mod.c:28561)\u001b[0;34m()\u001b[0m\n\u001b[1;32m   2752\u001b[0m                 \u001b[0;32mreturn\u001b[0m \u001b[0mx\u001b[0m\u001b[0;34m\u001b[0m\u001b[0;34m\u001b[0m\u001b[0m\n\u001b[1;32m   2753\u001b[0m         \u001b[0;32melse\u001b[0m\u001b[0;34m:\u001b[0m\u001b[0;34m\u001b[0m\u001b[0;34m\u001b[0m\u001b[0m\n\u001b[0;32m-> 2754\u001b[0;31m             \u001b[0;32mreturn\u001b[0m \u001b[0mself\u001b[0m\u001b[0;34m.\u001b[0m\u001b[0m_new_c\u001b[0m\u001b[0;34m(\u001b[0m\u001b[0mmod_inverse_int\u001b[0m\u001b[0;34m(\u001b[0m\u001b[0mself\u001b[0m\u001b[0;34m.\u001b[0m\u001b[0mivalue\u001b[0m\u001b[0;34m,\u001b[0m \u001b[0mself\u001b[0m\u001b[0;34m.\u001b[0m\u001b[0m__modulus\u001b[0m\u001b[0;34m.\u001b[0m\u001b[0mint32\u001b[0m\u001b[0;34m)\u001b[0m\u001b[0;34m)\u001b[0m\u001b[0;34m\u001b[0m\u001b[0;34m\u001b[0m\u001b[0m\n\u001b[0m\u001b[1;32m   2755\u001b[0m \u001b[0;34m\u001b[0m\u001b[0m\n\u001b[1;32m   2756\u001b[0m     \u001b[0;32mdef\u001b[0m \u001b[0mlift\u001b[0m\u001b[0;34m(\u001b[0m\u001b[0mIntegerMod_int\u001b[0m \u001b[0mself\u001b[0m\u001b[0;34m)\u001b[0m\u001b[0;34m:\u001b[0m\u001b[0;34m\u001b[0m\u001b[0;34m\u001b[0m\u001b[0m\n",
      "\u001b[0;32m/home/ailadin/anaconda3/envs/sage3/lib/python3.7/site-packages/sage/rings/finite_rings/integer_mod.pyx\u001b[0m in \u001b[0;36msage.rings.finite_rings.integer_mod.mod_inverse_int (build/cythonized/sage/rings/finite_rings/integer_mod.c:30546)\u001b[0;34m()\u001b[0m\n\u001b[1;32m   3049\u001b[0m         \u001b[0mt\u001b[0m \u001b[0;34m=\u001b[0m \u001b[0mnext_t\u001b[0m\u001b[0;34m\u001b[0m\u001b[0;34m\u001b[0m\u001b[0m\n\u001b[1;32m   3050\u001b[0m         \u001b[0mnext_t\u001b[0m \u001b[0;34m=\u001b[0m \u001b[0mlast_t\u001b[0m \u001b[0;34m-\u001b[0m \u001b[0mq\u001b[0m \u001b[0;34m*\u001b[0m \u001b[0mt\u001b[0m\u001b[0;34m\u001b[0m\u001b[0;34m\u001b[0m\u001b[0m\n\u001b[0;32m-> 3051\u001b[0;31m     \u001b[0;32mraise\u001b[0m \u001b[0mZeroDivisionError\u001b[0m\u001b[0;34m(\u001b[0m\u001b[0;34mf\"inverse of Mod({x}, {n}) does not exist\"\u001b[0m\u001b[0;34m)\u001b[0m\u001b[0;34m\u001b[0m\u001b[0;34m\u001b[0m\u001b[0m\n\u001b[0m\u001b[1;32m   3052\u001b[0m \u001b[0;34m\u001b[0m\u001b[0m\n\u001b[1;32m   3053\u001b[0m \u001b[0;34m\u001b[0m\u001b[0m\n",
      "\u001b[0;31mZeroDivisionError\u001b[0m: inverse of Mod(3, 1080) does not exist"
     ]
    }
   ],
   "source": [
    "d = ~e\n",
    "d"
   ]
  },
  {
   "cell_type": "code",
   "execution_count": 136,
   "metadata": {
    "ExecuteTime": {
     "end_time": "2020-06-16T05:49:43.333482Z",
     "start_time": "2020-06-16T05:49:43.324338Z"
    }
   },
   "outputs": [
    {
     "data": {
      "text/plain": [
       "3"
      ]
     },
     "execution_count": 136,
     "metadata": {},
     "output_type": "execute_result"
    }
   ],
   "source": [
    "gcd(e, tot)"
   ]
  },
  {
   "cell_type": "code",
   "execution_count": 137,
   "metadata": {
    "ExecuteTime": {
     "end_time": "2020-06-16T05:49:43.702749Z",
     "start_time": "2020-06-16T05:49:43.694698Z"
    }
   },
   "outputs": [
    {
     "data": {
      "text/plain": [
       "463"
      ]
     },
     "execution_count": 137,
     "metadata": {},
     "output_type": "execute_result"
    }
   ],
   "source": [
    "e = R(7)\n",
    "d = ~e\n",
    "d"
   ]
  },
  {
   "cell_type": "markdown",
   "metadata": {},
   "source": [
    "## 6.2"
   ]
  },
  {
   "cell_type": "code",
   "execution_count": 138,
   "metadata": {
    "ExecuteTime": {
     "end_time": "2020-06-16T05:49:44.670858Z",
     "start_time": "2020-06-16T05:49:44.665809Z"
    }
   },
   "outputs": [],
   "source": [
    "import numpy as np"
   ]
  },
  {
   "cell_type": "code",
   "execution_count": 149,
   "metadata": {
    "ExecuteTime": {
     "end_time": "2020-06-16T05:52:16.841810Z",
     "start_time": "2020-06-16T05:52:16.834872Z"
    }
   },
   "outputs": [
    {
     "name": "stdout",
     "output_type": "stream",
     "text": [
      "['A', 'B', 'C', 'D', 'E', 'F', 'G', 'H', 'I', 'J', 'K', 'L', 'M', 'N', 'O', 'P', 'Q', 'R', 'S', 'T', 'U', 'V', 'W', 'X', 'Y', 'Z']\n"
     ]
    }
   ],
   "source": [
    "abc = \"A B C D E F G H I J K L M N O P Q R S T U V W X Y Z\".split(' ')\n",
    "print(abc)"
   ]
  },
  {
   "cell_type": "code",
   "execution_count": 173,
   "metadata": {
    "ExecuteTime": {
     "end_time": "2020-06-16T06:07:52.967532Z",
     "start_time": "2020-06-16T06:07:52.962231Z"
    }
   },
   "outputs": [],
   "source": [
    "name = list('ANDRII')\n",
    "sur = list('KORZHUK')"
   ]
  },
  {
   "cell_type": "code",
   "execution_count": 175,
   "metadata": {
    "ExecuteTime": {
     "end_time": "2020-06-16T06:08:05.146986Z",
     "start_time": "2020-06-16T06:08:05.135303Z"
    }
   },
   "outputs": [
    {
     "data": {
      "text/plain": [
       "[2, 15, 5, 19, 10, 10]"
      ]
     },
     "execution_count": 175,
     "metadata": {},
     "output_type": "execute_result"
    }
   ],
   "source": [
    "ints = list(map(lambda t: int(abc.index(t)+2), name))\n",
    "ints"
   ]
  },
  {
   "cell_type": "code",
   "execution_count": 177,
   "metadata": {
    "ExecuteTime": {
     "end_time": "2020-06-16T06:08:15.866867Z",
     "start_time": "2020-06-16T06:08:15.862263Z"
    }
   },
   "outputs": [
    {
     "data": {
      "text/plain": [
       "[128, 1108, 129, 875, 454, 454]"
      ]
     },
     "execution_count": 177,
     "metadata": {},
     "output_type": "execute_result"
    }
   ],
   "source": [
    "\n",
    "ct =list(map(lambda x: R1(x)**e, ints))\n",
    "ct"
   ]
  },
  {
   "cell_type": "code",
   "execution_count": 179,
   "metadata": {
    "ExecuteTime": {
     "end_time": "2020-06-16T06:08:55.156754Z",
     "start_time": "2020-06-16T06:08:55.152900Z"
    }
   },
   "outputs": [],
   "source": [
    "#dec\n",
    "ints = list(map(lambda t: int(abc.index(t)+2), sur))"
   ]
  },
  {
   "cell_type": "code",
   "execution_count": 180,
   "metadata": {
    "ExecuteTime": {
     "end_time": "2020-06-16T06:08:55.687134Z",
     "start_time": "2020-06-16T06:08:55.677995Z"
    }
   },
   "outputs": [
    {
     "data": {
      "text/plain": [
       "[978, 934, 1068, 804, 49, 168, 978]"
      ]
     },
     "execution_count": 180,
     "metadata": {},
     "output_type": "execute_result"
    }
   ],
   "source": [
    "#dec\n",
    "pt = list(map(lambda x: R1(x)**d, ints))\n",
    "pt"
   ]
  },
  {
   "cell_type": "markdown",
   "metadata": {},
   "source": [
    "# 1"
   ]
  },
  {
   "cell_type": "code",
   "execution_count": 182,
   "metadata": {
    "ExecuteTime": {
     "end_time": "2020-06-16T06:28:23.680647Z",
     "start_time": "2020-06-16T06:28:23.677435Z"
    }
   },
   "outputs": [
    {
     "name": "stdout",
     "output_type": "stream",
     "text": [
      "['а', 'б', 'в', 'г', 'ґ', 'д', 'е', 'є', 'ж', 'з', 'и', 'і', 'ї', 'й', 'к', 'л', 'м', 'н', 'о', 'п', 'р', 'с', 'т', 'у', 'ф', 'х', 'ц', 'ч', 'ш', 'щ', 'ь', 'ю', 'я']\n"
     ]
    }
   ],
   "source": [
    "abc = 'а, б, в, г, ґ, д, е, є, ж, з, и, і, ї, й, к, л, м, н, о, п, р, с, т, у, ф, х, ц, ч, ш, щ, ь, ю, я'.split(', ')\n",
    "print(abc)"
   ]
  },
  {
   "cell_type": "code",
   "execution_count": 183,
   "metadata": {
    "ExecuteTime": {
     "end_time": "2020-06-16T06:28:24.309966Z",
     "start_time": "2020-06-16T06:28:24.305253Z"
    }
   },
   "outputs": [],
   "source": [
    "key = list('здійнявшиґва')\n",
    "pt = list( 'коржукандрій')"
   ]
  },
  {
   "cell_type": "code",
   "execution_count": 185,
   "metadata": {
    "ExecuteTime": {
     "end_time": "2020-06-16T06:28:31.392330Z",
     "start_time": "2020-06-16T06:28:31.389266Z"
    }
   },
   "outputs": [],
   "source": [
    "key_i = list(map(lambda t: int(abc.index(t)), key))\n",
    "pt_i = list(map(lambda t: int(abc.index(t)), pt))"
   ]
  },
  {
   "cell_type": "code",
   "execution_count": 189,
   "metadata": {
    "ExecuteTime": {
     "end_time": "2020-06-16T06:30:21.012419Z",
     "start_time": "2020-06-16T06:30:21.003674Z"
    }
   },
   "outputs": [
    {
     "data": {
      "text/plain": [
       "[23, 23, 31, 21, 7, 13, 2, 12, 15, 24, 13, 13]"
      ]
     },
     "execution_count": 189,
     "metadata": {},
     "output_type": "execute_result"
    }
   ],
   "source": [
    "ct_i = list((np.array(key_i) + np.array(pt_i)) % 33)\n",
    "ct_i"
   ]
  },
  {
   "cell_type": "code",
   "execution_count": 191,
   "metadata": {
    "ExecuteTime": {
     "end_time": "2020-06-16T06:30:31.415805Z",
     "start_time": "2020-06-16T06:30:31.411686Z"
    }
   },
   "outputs": [
    {
     "data": {
      "text/plain": [
       "'ууюсєйвїлфйй'"
      ]
     },
     "execution_count": 191,
     "metadata": {},
     "output_type": "execute_result"
    }
   ],
   "source": [
    "''.join(np.array(abc)[ct_i])"
   ]
  },
  {
   "cell_type": "markdown",
   "metadata": {},
   "source": [
    "# 3"
   ]
  },
  {
   "cell_type": "code",
   "execution_count": 204,
   "metadata": {
    "ExecuteTime": {
     "end_time": "2020-06-16T06:38:46.220479Z",
     "start_time": "2020-06-16T06:38:46.217981Z"
    }
   },
   "outputs": [],
   "source": [
    "c_per_sec = 100_000_000"
   ]
  },
  {
   "cell_type": "code",
   "execution_count": 215,
   "metadata": {
    "ExecuteTime": {
     "end_time": "2020-06-16T06:39:21.053295Z",
     "start_time": "2020-06-16T06:39:21.048628Z"
    }
   },
   "outputs": [
    {
     "data": {
      "text/plain": [
       "281474976710656"
      ]
     },
     "execution_count": 215,
     "metadata": {},
     "output_type": "execute_result"
    }
   ],
   "source": [
    "n = 96\n",
    "# compytations\n",
    "n_05 = 2**(96*5//10)\n",
    "n_05"
   ]
  },
  {
   "cell_type": "code",
   "execution_count": 216,
   "metadata": {
    "ExecuteTime": {
     "end_time": "2020-06-16T06:39:21.877909Z",
     "start_time": "2020-06-16T06:39:21.873898Z"
    }
   },
   "outputs": [
    {
     "data": {
      "text/plain": [
       "781"
      ]
     },
     "execution_count": 216,
     "metadata": {},
     "output_type": "execute_result"
    }
   ],
   "source": [
    "# hours\n",
    "n_05//c_per_sec//3600"
   ]
  },
  {
   "cell_type": "code",
   "execution_count": 217,
   "metadata": {
    "ExecuteTime": {
     "end_time": "2020-06-16T06:39:22.843889Z",
     "start_time": "2020-06-16T06:39:22.840503Z"
    }
   },
   "outputs": [
    {
     "data": {
      "text/plain": [
       "147573952589676412928"
      ]
     },
     "execution_count": 217,
     "metadata": {},
     "output_type": "execute_result"
    }
   ],
   "source": [
    "n_07 = 2**(96*7//10)\n",
    "n_07"
   ]
  },
  {
   "cell_type": "code",
   "execution_count": 218,
   "metadata": {
    "ExecuteTime": {
     "end_time": "2020-06-16T06:39:23.274933Z",
     "start_time": "2020-06-16T06:39:23.263901Z"
    }
   },
   "outputs": [
    {
     "data": {
      "text/plain": [
       "409927646"
      ]
     },
     "execution_count": 218,
     "metadata": {},
     "output_type": "execute_result"
    }
   ],
   "source": [
    "#hours\n",
    "n_07//c_per_sec//3600"
   ]
  },
  {
   "cell_type": "markdown",
   "metadata": {},
   "source": [
    "# 5"
   ]
  },
  {
   "cell_type": "code",
   "execution_count": 221,
   "metadata": {
    "ExecuteTime": {
     "end_time": "2020-06-16T06:43:36.380283Z",
     "start_time": "2020-06-16T06:43:36.370077Z"
    }
   },
   "outputs": [
    {
     "data": {
      "text/plain": [
       "(3, 11)"
      ]
     },
     "execution_count": 221,
     "metadata": {},
     "output_type": "execute_result"
    }
   ],
   "source": [
    "e = 13\n",
    "p, q = factor(33)\n",
    "p = p[0]\n",
    "q = q[0]\n",
    "p, q"
   ]
  },
  {
   "cell_type": "code",
   "execution_count": 223,
   "metadata": {
    "ExecuteTime": {
     "end_time": "2020-06-16T06:43:48.452869Z",
     "start_time": "2020-06-16T06:43:48.447993Z"
    }
   },
   "outputs": [
    {
     "data": {
      "text/plain": [
       "9"
      ]
     },
     "execution_count": 223,
     "metadata": {},
     "output_type": "execute_result"
    }
   ],
   "source": [
    "n_roots = (1+gcd(e-1,p-1))*(1+gcd(e-1,q-1))\n",
    "n_roots"
   ]
  },
  {
   "cell_type": "code",
   "execution_count": 227,
   "metadata": {
    "ExecuteTime": {
     "end_time": "2020-06-16T06:44:35.782068Z",
     "start_time": "2020-06-16T06:44:35.777931Z"
    }
   },
   "outputs": [
    {
     "data": {
      "text/plain": [
       "(3/11, 0.2727272727272727)"
      ]
     },
     "execution_count": 227,
     "metadata": {},
     "output_type": "execute_result"
    }
   ],
   "source": [
    "prob = n_roots/(p*q)\n",
    "prob, float(prob)"
   ]
  },
  {
   "cell_type": "code",
   "execution_count": null,
   "metadata": {},
   "outputs": [],
   "source": []
  }
 ],
 "metadata": {
  "kernelspec": {
   "display_name": "SageMath 9.0 [conda env:sage3]",
   "language": "sage",
   "name": "conda-env-sage3-sagemath"
  },
  "language_info": {
   "codemirror_mode": {
    "name": "ipython",
    "version": 3
   },
   "file_extension": ".py",
   "mimetype": "text/x-python",
   "name": "python",
   "nbconvert_exporter": "python",
   "pygments_lexer": "ipython3",
   "version": "3.7.6"
  }
 },
 "nbformat": 4,
 "nbformat_minor": 4
}
