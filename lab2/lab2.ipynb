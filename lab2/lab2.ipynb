{
 "cells": [
  {
   "cell_type": "code",
   "execution_count": 1,
   "metadata": {
    "ExecuteTime": {
     "end_time": "2020-02-27T18:14:47.264388Z",
     "start_time": "2020-02-27T18:14:47.261968Z"
    }
   },
   "outputs": [],
   "source": [
    "import sys\n",
    "sys.path.append('..')"
   ]
  },
  {
   "cell_type": "code",
   "execution_count": 2,
   "metadata": {
    "ExecuteTime": {
     "end_time": "2020-02-27T18:14:47.693248Z",
     "start_time": "2020-02-27T18:14:47.265849Z"
    }
   },
   "outputs": [],
   "source": [
    "import numpy as np\n",
    "from lab2.AES import encrypt, decrypt\n",
    "from lab2.ByteGF import BitGF\n",
    "from lab2.utils import *\n",
    "from copy import deepcopy"
   ]
  },
  {
   "cell_type": "markdown",
   "metadata": {},
   "source": [
    "# AES - 128"
   ]
  },
  {
   "cell_type": "markdown",
   "metadata": {},
   "source": [
    "<img src = \"Screenshot from 2020-02-27 19-44-20.png\">"
   ]
  },
  {
   "cell_type": "code",
   "execution_count": 3,
   "metadata": {
    "ExecuteTime": {
     "end_time": "2020-02-27T18:14:47.957580Z",
     "start_time": "2020-02-27T18:14:47.694765Z"
    }
   },
   "outputs": [
    {
     "name": "stdout",
     "output_type": "stream",
     "text": [
      "[[32 88 31 e0]\n",
      " [43 5a 31 37]\n",
      " [f6 30 98 07]\n",
      " [a8 8d a2 34]] \n",
      "\n",
      " [[2b 28 ab 09]\n",
      " [7e ae f7 cf]\n",
      " [15 d2 15 4f]\n",
      " [16 a6 88 3c]]\n"
     ]
    }
   ],
   "source": [
    "inp = np.array([\n",
    "        BitGF.from_hex('32'),\n",
    "        BitGF.from_hex('43'),\n",
    "        BitGF.from_hex('f6'),\n",
    "        BitGF.from_hex('a8'),\n",
    "        BitGF.from_hex('88'),\n",
    "        BitGF.from_hex('5a'),\n",
    "        BitGF.from_hex('30'),\n",
    "        BitGF.from_hex('8d'),\n",
    "        BitGF.from_hex('31'),\n",
    "        BitGF.from_hex('31'),\n",
    "        BitGF.from_hex('98'),\n",
    "        BitGF.from_hex('a2'),\n",
    "        BitGF.from_hex('e0'),\n",
    "        BitGF.from_hex('37'),\n",
    "        BitGF.from_hex('07'),\n",
    "        BitGF.from_hex('34'),\n",
    "    ]).reshape((4, 4)).transpose()\n",
    "\n",
    "key = np.array([\n",
    "    BitGF.from_hex('2b'),\n",
    "    BitGF.from_hex('7e'),\n",
    "    BitGF.from_hex('15'),\n",
    "    BitGF.from_hex('16'),\n",
    "    BitGF.from_hex('28'),\n",
    "    BitGF.from_hex('ae'),\n",
    "    BitGF.from_hex('d2'),\n",
    "    BitGF.from_hex('a6'),\n",
    "    BitGF.from_hex('ab'),\n",
    "    BitGF.from_hex('f7'),\n",
    "    BitGF.from_hex('15'),\n",
    "    BitGF.from_hex('88'),\n",
    "    BitGF.from_hex('09'),\n",
    "    BitGF.from_hex('cf'),\n",
    "    BitGF.from_hex('4f'),\n",
    "    BitGF.from_hex('3c'),\n",
    "]).reshape((4, 4)).transpose()\n",
    "\n",
    "print(inp, '\\n\\n', key)"
   ]
  },
  {
   "cell_type": "markdown",
   "metadata": {},
   "source": [
    "<img src = 'Screenshot from 2020-02-27 19-50-04.png'>"
   ]
  },
  {
   "cell_type": "code",
   "execution_count": 4,
   "metadata": {
    "ExecuteTime": {
     "end_time": "2020-02-27T18:14:48.707658Z",
     "start_time": "2020-02-27T18:14:47.960255Z"
    }
   },
   "outputs": [
    {
     "data": {
      "text/plain": [
       "array([[39, 02, dc, 19],\n",
       "       [25, dc, 11, 6a],\n",
       "       [84, 09, 85, 0b],\n",
       "       [1d, fb, 97, 32]], dtype=object)"
      ]
     },
     "execution_count": 4,
     "metadata": {},
     "output_type": "execute_result"
    }
   ],
   "source": [
    "enc = encrypt(inp, key)\n",
    "enc"
   ]
  },
  {
   "cell_type": "code",
   "execution_count": 5,
   "metadata": {
    "ExecuteTime": {
     "end_time": "2020-02-27T18:14:49.191177Z",
     "start_time": "2020-02-27T18:14:48.709023Z"
    }
   },
   "outputs": [
    {
     "data": {
      "text/plain": [
       "array([[32, 88, 31, e0],\n",
       "       [43, 5a, 31, 37],\n",
       "       [f6, 30, 98, 07],\n",
       "       [a8, 8d, a2, 34]], dtype=object)"
      ]
     },
     "execution_count": 5,
     "metadata": {},
     "output_type": "execute_result"
    }
   ],
   "source": [
    "decrypted = decrypt(enc, key)\n",
    "decrypted"
   ]
  },
  {
   "cell_type": "code",
   "execution_count": 6,
   "metadata": {
    "ExecuteTime": {
     "end_time": "2020-02-27T18:14:49.196304Z",
     "start_time": "2020-02-27T18:14:49.192776Z"
    }
   },
   "outputs": [
    {
     "data": {
      "text/plain": [
       "array([[ True,  True,  True,  True],\n",
       "       [ True,  True,  True,  True],\n",
       "       [ True,  True,  True,  True],\n",
       "       [ True,  True,  True,  True]])"
      ]
     },
     "execution_count": 6,
     "metadata": {},
     "output_type": "execute_result"
    }
   ],
   "source": [
    "decrypted == inp"
   ]
  },
  {
   "cell_type": "markdown",
   "metadata": {},
   "source": [
    "# Як зміниться криптотекст якщо в початковому тексті замінити один біт?"
   ]
  },
  {
   "cell_type": "code",
   "execution_count": 7,
   "metadata": {
    "ExecuteTime": {
     "end_time": "2020-02-27T18:14:49.481513Z",
     "start_time": "2020-02-27T18:14:49.199002Z"
    }
   },
   "outputs": [],
   "source": [
    "changed_inp = deepcopy(inp)"
   ]
  },
  {
   "cell_type": "code",
   "execution_count": 8,
   "metadata": {
    "ExecuteTime": {
     "end_time": "2020-02-27T18:14:49.776787Z",
     "start_time": "2020-02-27T18:14:49.487006Z"
    }
   },
   "outputs": [],
   "source": [
    "changed_inp[2][2].bits[4] = not changed_inp[2][2].bits[4]"
   ]
  },
  {
   "cell_type": "code",
   "execution_count": 9,
   "metadata": {
    "ExecuteTime": {
     "end_time": "2020-02-27T18:14:50.075077Z",
     "start_time": "2020-02-27T18:14:49.779283Z"
    }
   },
   "outputs": [
    {
     "name": "stdout",
     "output_type": "stream",
     "text": [
      "[[32 88 31 e0]\n",
      " [43 5a 31 37]\n",
      " [f6 30 98 07]\n",
      " [a8 8d a2 34]] \n",
      "\n",
      " [[32 88 31 e0]\n",
      " [43 5a 31 37]\n",
      " [f6 30 88 07]\n",
      " [a8 8d a2 34]]\n"
     ]
    }
   ],
   "source": [
    "print(inp, '\\n\\n', changed_inp)"
   ]
  },
  {
   "cell_type": "code",
   "execution_count": 10,
   "metadata": {
    "ExecuteTime": {
     "end_time": "2020-02-27T18:14:50.855066Z",
     "start_time": "2020-02-27T18:14:50.077555Z"
    }
   },
   "outputs": [
    {
     "data": {
      "text/plain": [
       "array([[39, 02, dc, 19],\n",
       "       [25, dc, 11, 6a],\n",
       "       [84, 09, 85, 0b],\n",
       "       [1d, fb, 97, 32]], dtype=object)"
      ]
     },
     "execution_count": 10,
     "metadata": {},
     "output_type": "execute_result"
    }
   ],
   "source": [
    "enc = encrypt(inp, key)\n",
    "enc"
   ]
  },
  {
   "cell_type": "code",
   "execution_count": 11,
   "metadata": {
    "ExecuteTime": {
     "end_time": "2020-02-27T18:14:51.315937Z",
     "start_time": "2020-02-27T18:14:50.857220Z"
    }
   },
   "outputs": [
    {
     "data": {
      "text/plain": [
       "array([[40, 1b, 8d, 00],\n",
       "       [60, 77, 67, 1d],\n",
       "       [6c, b6, 5b, fc],\n",
       "       [eb, 01, 3b, 6f]], dtype=object)"
      ]
     },
     "execution_count": 11,
     "metadata": {},
     "output_type": "execute_result"
    }
   ],
   "source": [
    "changed_bit_enc = encrypt(changed_inp, key)\n",
    "changed_bit_enc"
   ]
  },
  {
   "cell_type": "code",
   "execution_count": 12,
   "metadata": {
    "ExecuteTime": {
     "end_time": "2020-02-27T18:14:51.320691Z",
     "start_time": "2020-02-27T18:14:51.317308Z"
    }
   },
   "outputs": [
    {
     "data": {
      "text/plain": [
       "array([[False, False, False, False],\n",
       "       [False, False, False, False],\n",
       "       [False, False, False, False],\n",
       "       [False, False, False, False]])"
      ]
     },
     "execution_count": 12,
     "metadata": {},
     "output_type": "execute_result"
    }
   ],
   "source": [
    "enc == changed_bit_enc"
   ]
  },
  {
   "cell_type": "markdown",
   "metadata": {},
   "source": [
    "Як видно з останньго виводу криптотексти не  співпадають в жодному байті."
   ]
  },
  {
   "cell_type": "markdown",
   "metadata": {},
   "source": [
    "# Потокові режими"
   ]
  },
  {
   "cell_type": "markdown",
   "metadata": {},
   "source": [
    "## CBC"
   ]
  },
  {
   "cell_type": "code",
   "execution_count": 13,
   "metadata": {
    "ExecuteTime": {
     "end_time": "2020-02-27T18:14:51.635667Z",
     "start_time": "2020-02-27T18:14:51.322079Z"
    }
   },
   "outputs": [],
   "source": [
    "from lab2.stream_mods import cbc_encrypt, cbc_decrypt"
   ]
  },
  {
   "cell_type": "code",
   "execution_count": 14,
   "metadata": {
    "ExecuteTime": {
     "end_time": "2020-02-27T18:14:51.958005Z",
     "start_time": "2020-02-27T18:14:51.637894Z"
    }
   },
   "outputs": [],
   "source": [
    "text = \"Test message for testing CBC stream mod.\"\n",
    "\n",
    "test_key = next(text2byte_generator(\"TEST KEY FOR ME.\"))\n",
    "\n",
    "encoded = np.array([*text2byte_generator(text), ])"
   ]
  },
  {
   "cell_type": "code",
   "execution_count": 15,
   "metadata": {
    "ExecuteTime": {
     "end_time": "2020-02-27T18:14:53.657528Z",
     "start_time": "2020-02-27T18:14:51.963962Z"
    }
   },
   "outputs": [
    {
     "name": "stdout",
     "output_type": "stream",
     "text": [
      "\"ëeMN¾\u000b",
      "ÜËé\tîòH©'Ê\u00149­¶Y\u000e×~\u0018HëJq¬)ý¢Uþ\th»Çb\u0011>2+'\u001c",
      "û\u001bxsjÉüJ\n"
     ]
    }
   ],
   "source": [
    "enc = np.array([*cbc_encrypt(iter(encoded), test_key), ])\n",
    "print(byte2text(enc))"
   ]
  },
  {
   "cell_type": "code",
   "execution_count": 16,
   "metadata": {
    "ExecuteTime": {
     "end_time": "2020-02-27T18:14:55.130448Z",
     "start_time": "2020-02-27T18:14:53.659034Z"
    }
   },
   "outputs": [
    {
     "name": "stdout",
     "output_type": "stream",
     "text": [
      "Test message for testing CBC stream mod.\n"
     ]
    }
   ],
   "source": [
    "decr = np.array([*cbc_decrypt(iter(enc), test_key), ])\n",
    "print(byte2text(decr))"
   ]
  },
  {
   "cell_type": "code",
   "execution_count": 17,
   "metadata": {
    "ExecuteTime": {
     "end_time": "2020-02-27T18:14:55.135049Z",
     "start_time": "2020-02-27T18:14:55.131962Z"
    }
   },
   "outputs": [
    {
     "name": "stdout",
     "output_type": "stream",
     "text": [
      "[[[ True  True  True  True]\n",
      "  [ True  True  True  True]\n",
      "  [ True  True  True  True]\n",
      "  [ True  True  True  True]]\n",
      "\n",
      " [[ True  True  True  True]\n",
      "  [ True  True  True  True]\n",
      "  [ True  True  True  True]\n",
      "  [ True  True  True  True]]\n",
      "\n",
      " [[ True  True  True  True]\n",
      "  [ True  True  True  True]\n",
      "  [ True  True  True  True]\n",
      "  [ True  True  True  True]]]\n"
     ]
    }
   ],
   "source": [
    "print(decr == encoded)"
   ]
  },
  {
   "cell_type": "markdown",
   "metadata": {},
   "source": [
    "## CTR"
   ]
  },
  {
   "cell_type": "code",
   "execution_count": 18,
   "metadata": {
    "ExecuteTime": {
     "end_time": "2020-02-27T18:14:55.505939Z",
     "start_time": "2020-02-27T18:14:55.136480Z"
    }
   },
   "outputs": [],
   "source": [
    "from lab2.stream_mods import ctr_encrypt, ctr_decrypt"
   ]
  },
  {
   "cell_type": "code",
   "execution_count": 19,
   "metadata": {
    "ExecuteTime": {
     "end_time": "2020-02-27T18:14:55.720475Z",
     "start_time": "2020-02-27T18:14:55.514758Z"
    }
   },
   "outputs": [],
   "source": [
    "text = \"Test message for testing CTR stream mod.\"\n",
    "\n",
    "test_key = next(text2byte_generator(\"TEST KEY FOR CTR\"))\n",
    "\n",
    "encoded = np.array([*text2byte_generator(text), ])"
   ]
  },
  {
   "cell_type": "code",
   "execution_count": 20,
   "metadata": {
    "ExecuteTime": {
     "end_time": "2020-02-27T18:14:57.442114Z",
     "start_time": "2020-02-27T18:14:55.723617Z"
    }
   },
   "outputs": [
    {
     "name": "stdout",
     "output_type": "stream",
     "text": [
      "ôÕËä\u0013ÿ\u0003ÑI»WÚx·ÄÝãGû\u0017·zWÏc·ÅÑÕ°^ý^¢ô.Þw¼\u0017Å\n"
     ]
    }
   ],
   "source": [
    "enc = np.array([*ctr_encrypt(iter(encoded), test_key), ])\n",
    "print(byte2text(enc))"
   ]
  },
  {
   "cell_type": "code",
   "execution_count": 21,
   "metadata": {
    "ExecuteTime": {
     "end_time": "2020-02-27T18:14:58.942758Z",
     "start_time": "2020-02-27T18:14:57.444061Z"
    }
   },
   "outputs": [
    {
     "name": "stdout",
     "output_type": "stream",
     "text": [
      "Test message for testing CTR stream mod.\n"
     ]
    }
   ],
   "source": [
    "decr = np.array([*ctr_decrypt(iter(enc), test_key), ])\n",
    "print(byte2text(decr))"
   ]
  },
  {
   "cell_type": "code",
   "execution_count": 22,
   "metadata": {
    "ExecuteTime": {
     "end_time": "2020-02-27T18:14:58.947641Z",
     "start_time": "2020-02-27T18:14:58.944298Z"
    }
   },
   "outputs": [
    {
     "name": "stdout",
     "output_type": "stream",
     "text": [
      "[[[ True  True  True  True]\n",
      "  [ True  True  True  True]\n",
      "  [ True  True  True  True]\n",
      "  [ True  True  True  True]]\n",
      "\n",
      " [[ True  True  True  True]\n",
      "  [ True  True  True  True]\n",
      "  [ True  True  True  True]\n",
      "  [ True  True  True  True]]\n",
      "\n",
      " [[ True  True  True  True]\n",
      "  [ True  True  True  True]\n",
      "  [ True  True  True  True]\n",
      "  [ True  True  True  True]]]\n"
     ]
    }
   ],
   "source": [
    "print(decr == encoded)"
   ]
  }
 ],
 "metadata": {
  "kernelspec": {
   "display_name": "Python 3",
   "language": "python",
   "name": "python3"
  },
  "language_info": {
   "codemirror_mode": {
    "name": "ipython",
    "version": 3
   },
   "file_extension": ".py",
   "mimetype": "text/x-python",
   "name": "python",
   "nbconvert_exporter": "python",
   "pygments_lexer": "ipython3",
   "version": "3.7.4"
  }
 },
 "nbformat": 4,
 "nbformat_minor": 2
}
