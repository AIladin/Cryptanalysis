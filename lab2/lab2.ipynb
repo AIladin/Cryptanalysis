{
 "cells": [
  {
   "cell_type": "code",
   "execution_count": 1,
   "metadata": {
    "ExecuteTime": {
     "end_time": "2020-03-06T08:00:48.700294Z",
     "start_time": "2020-03-06T08:00:48.698116Z"
    }
   },
   "outputs": [],
   "source": [
    "import sys\n",
    "sys.path.append('..')"
   ]
  },
  {
   "cell_type": "code",
   "execution_count": 2,
   "metadata": {
    "ExecuteTime": {
     "end_time": "2020-03-06T08:00:49.259427Z",
     "start_time": "2020-03-06T08:00:48.836702Z"
    }
   },
   "outputs": [],
   "source": [
    "import numpy as np\n",
    "from lab2.AES import encrypt, decrypt\n",
    "from lab2.ByteGF import BitGF\n",
    "from lab2.utils import *\n",
    "from copy import deepcopy\n",
    "import matplotlib.pyplot as plt"
   ]
  },
  {
   "cell_type": "markdown",
   "metadata": {},
   "source": [
    "# AES - 128"
   ]
  },
  {
   "cell_type": "markdown",
   "metadata": {},
   "source": [
    "<img src = \"Screenshot from 2020-02-27 19-44-20.png\">"
   ]
  },
  {
   "cell_type": "code",
   "execution_count": 22,
   "metadata": {
    "ExecuteTime": {
     "end_time": "2020-03-06T08:10:12.634520Z",
     "start_time": "2020-03-06T08:10:12.619362Z"
    }
   },
   "outputs": [
    {
     "name": "stdout",
     "output_type": "stream",
     "text": [
      "[[32 88 31 e0]\n",
      " [43 5a 31 37]\n",
      " [f6 30 98 07]\n",
      " [a8 8d a2 34]] \n",
      "\n",
      " [[2b 28 ab 09]\n",
      " [7e ae f7 cf]\n",
      " [15 d2 15 4f]\n",
      " [16 a6 88 3c]]\n"
     ]
    }
   ],
   "source": [
    "inp = np.array([\n",
    "        BitGF.from_hex('32'),\n",
    "        BitGF.from_hex('43'),\n",
    "        BitGF.from_hex('f6'),\n",
    "        BitGF.from_hex('a8'),\n",
    "        BitGF.from_hex('88'),\n",
    "        BitGF.from_hex('5a'),\n",
    "        BitGF.from_hex('30'),\n",
    "        BitGF.from_hex('8d'),\n",
    "        BitGF.from_hex('31'),\n",
    "        BitGF.from_hex('31'),\n",
    "        BitGF.from_hex('98'),\n",
    "        BitGF.from_hex('a2'),\n",
    "        BitGF.from_hex('e0'),\n",
    "        BitGF.from_hex('37'),\n",
    "        BitGF.from_hex('07'),\n",
    "        BitGF.from_hex('34'),\n",
    "    ]).reshape((4, 4)).transpose()\n",
    "\n",
    "key = np.array([\n",
    "    BitGF.from_hex('2b'),\n",
    "    BitGF.from_hex('7e'),\n",
    "    BitGF.from_hex('15'),\n",
    "    BitGF.from_hex('16'),\n",
    "    BitGF.from_hex('28'),\n",
    "    BitGF.from_hex('ae'),\n",
    "    BitGF.from_hex('d2'),\n",
    "    BitGF.from_hex('a6'),\n",
    "    BitGF.from_hex('ab'),\n",
    "    BitGF.from_hex('f7'),\n",
    "    BitGF.from_hex('15'),\n",
    "    BitGF.from_hex('88'),\n",
    "    BitGF.from_hex('09'),\n",
    "    BitGF.from_hex('cf'),\n",
    "    BitGF.from_hex('4f'),\n",
    "    BitGF.from_hex('3c'),\n",
    "]).reshape((4, 4)).transpose()\n",
    "\n",
    "print(inp, '\\n\\n', key)"
   ]
  },
  {
   "cell_type": "markdown",
   "metadata": {},
   "source": [
    "<img src = 'Screenshot from 2020-02-27 19-50-04.png'>"
   ]
  },
  {
   "cell_type": "code",
   "execution_count": 4,
   "metadata": {
    "ExecuteTime": {
     "end_time": "2020-03-06T06:45:12.218276Z",
     "start_time": "2020-03-06T06:45:11.758558Z"
    }
   },
   "outputs": [
    {
     "data": {
      "text/plain": [
       "array([[39, 02, dc, 19],\n",
       "       [25, dc, 11, 6a],\n",
       "       [84, 09, 85, 0b],\n",
       "       [1d, fb, 97, 32]], dtype=object)"
      ]
     },
     "execution_count": 4,
     "metadata": {},
     "output_type": "execute_result"
    }
   ],
   "source": [
    "enc = encrypt(inp, key)\n",
    "enc"
   ]
  },
  {
   "cell_type": "code",
   "execution_count": 5,
   "metadata": {
    "ExecuteTime": {
     "end_time": "2020-03-06T06:45:12.656757Z",
     "start_time": "2020-03-06T06:45:12.219451Z"
    }
   },
   "outputs": [
    {
     "data": {
      "text/plain": [
       "array([[32, 88, 31, e0],\n",
       "       [43, 5a, 31, 37],\n",
       "       [f6, 30, 98, 07],\n",
       "       [a8, 8d, a2, 34]], dtype=object)"
      ]
     },
     "execution_count": 5,
     "metadata": {},
     "output_type": "execute_result"
    }
   ],
   "source": [
    "decrypted = decrypt(enc, key)\n",
    "decrypted"
   ]
  },
  {
   "cell_type": "code",
   "execution_count": 6,
   "metadata": {
    "ExecuteTime": {
     "end_time": "2020-03-06T06:45:12.663367Z",
     "start_time": "2020-03-06T06:45:12.660543Z"
    }
   },
   "outputs": [
    {
     "data": {
      "text/plain": [
       "array([[ True,  True,  True,  True],\n",
       "       [ True,  True,  True,  True],\n",
       "       [ True,  True,  True,  True],\n",
       "       [ True,  True,  True,  True]])"
      ]
     },
     "execution_count": 6,
     "metadata": {},
     "output_type": "execute_result"
    }
   ],
   "source": [
    "decrypted == inp"
   ]
  },
  {
   "cell_type": "markdown",
   "metadata": {},
   "source": [
    "# Як зміниться криптотекст якщо в початковому тексті замінити один біт?"
   ]
  },
  {
   "cell_type": "code",
   "execution_count": 7,
   "metadata": {
    "ExecuteTime": {
     "end_time": "2020-03-06T06:45:14.419312Z",
     "start_time": "2020-03-06T06:45:14.416808Z"
    }
   },
   "outputs": [],
   "source": [
    "changed_inp = deepcopy(inp)\n",
    "arr = []"
   ]
  },
  {
   "cell_type": "code",
   "execution_count": null,
   "metadata": {
    "ExecuteTime": {
     "end_time": "2020-02-28T08:15:13.764305Z",
     "start_time": "2020-02-28T08:15:13.755081Z"
    }
   },
   "outputs": [],
   "source": []
  },
  {
   "cell_type": "code",
   "execution_count": 8,
   "metadata": {
    "ExecuteTime": {
     "end_time": "2020-03-06T06:45:16.079838Z",
     "start_time": "2020-03-06T06:45:16.077119Z"
    }
   },
   "outputs": [],
   "source": []
  },
  {
   "cell_type": "code",
   "execution_count": null,
   "metadata": {},
   "outputs": [],
   "source": []
  },
  {
   "cell_type": "code",
   "execution_count": 128,
   "metadata": {
    "ExecuteTime": {
     "end_time": "2020-02-28T08:06:04.976784Z",
     "start_time": "2020-02-28T08:06:04.630126Z"
    }
   },
   "outputs": [
    {
     "data": {
      "text/plain": [
       "array([[39, 02, dc, 19],\n",
       "       [25, dc, 11, 6a],\n",
       "       [84, 09, 85, 0b],\n",
       "       [1d, fb, 97, 32]], dtype=object)"
      ]
     },
     "execution_count": 128,
     "metadata": {},
     "output_type": "execute_result"
    }
   ],
   "source": [
    "enc = encrypt(inp, key)\n",
    "enc"
   ]
  },
  {
   "cell_type": "code",
   "execution_count": 11,
   "metadata": {
    "ExecuteTime": {
     "end_time": "2020-02-28T06:47:29.156583Z",
     "start_time": "2020-02-28T06:47:28.784900Z"
    }
   },
   "outputs": [
    {
     "data": {
      "text/plain": [
       "array([[40, 1b, 8d, 00],\n",
       "       [60, 77, 67, 1d],\n",
       "       [6c, b6, 5b, fc],\n",
       "       [eb, 01, 3b, 6f]], dtype=object)"
      ]
     },
     "execution_count": 11,
     "metadata": {},
     "output_type": "execute_result"
    }
   ],
   "source": [
    "changed_bit_enc = encrypt(changed_inp, key)\n",
    "changed_bit_enc"
   ]
  },
  {
   "cell_type": "code",
   "execution_count": 12,
   "metadata": {
    "ExecuteTime": {
     "end_time": "2020-02-28T06:47:29.400888Z",
     "start_time": "2020-02-28T06:47:29.390536Z"
    }
   },
   "outputs": [
    {
     "data": {
      "text/plain": [
       "array([[False, False, False, False],\n",
       "       [False, False, False, False],\n",
       "       [False, False, False, False],\n",
       "       [False, False, False, False]])"
      ]
     },
     "execution_count": 12,
     "metadata": {},
     "output_type": "execute_result"
    }
   ],
   "source": [
    "enc == changed_bit_enc"
   ]
  },
  {
   "cell_type": "markdown",
   "metadata": {},
   "source": [
    "Як видно з останньго виводу криптотексти не  співпадають в жодному байті."
   ]
  },
  {
   "cell_type": "markdown",
   "metadata": {},
   "source": [
    "# Потокові режими"
   ]
  },
  {
   "cell_type": "markdown",
   "metadata": {},
   "source": [
    "## CBC"
   ]
  },
  {
   "cell_type": "code",
   "execution_count": 3,
   "metadata": {
    "ExecuteTime": {
     "end_time": "2020-03-06T08:00:53.848520Z",
     "start_time": "2020-03-06T08:00:53.845017Z"
    }
   },
   "outputs": [],
   "source": [
    "from lab2.stream_mods import cbc_encrypt, cbc_decrypt"
   ]
  },
  {
   "cell_type": "code",
   "execution_count": 18,
   "metadata": {
    "ExecuteTime": {
     "end_time": "2020-03-06T08:07:23.878459Z",
     "start_time": "2020-03-06T08:07:23.872060Z"
    }
   },
   "outputs": [
    {
     "name": "stdout",
     "output_type": "stream",
     "text": [
      "54657374\n"
     ]
    },
    {
     "data": {
      "text/plain": [
       "'54202020454b464d53454f455459522e'"
      ]
     },
     "execution_count": 18,
     "metadata": {},
     "output_type": "execute_result"
    }
   ],
   "source": [
    "text = \"Test\"\n",
    "\n",
    "test_key = next(text2byte_generator(\"TEST KEY FOR ME.\"))\n",
    "print(byte2text(next(text2byte_generator(text))))\n",
    "encoded = np.array([*text2byte_generator(text), ])\n",
    "byte2text(test_key)"
   ]
  },
  {
   "cell_type": "code",
   "execution_count": 15,
   "metadata": {
    "ExecuteTime": {
     "end_time": "2020-03-06T08:02:21.541715Z",
     "start_time": "2020-03-06T08:02:21.032932Z"
    }
   },
   "outputs": [
    {
     "name": "stdout",
     "output_type": "stream",
     "text": [
      "7074b84caa95209391a7c39c3eca305d\n",
      "70aa913e7495a7cab820c3304c939c5d6b53963f88274744e9eeb4bd31c327d9\n"
     ]
    }
   ],
   "source": [
    "enc = np.array([*cbc_encrypt(iter(encoded), test_key), ])\n",
    "print(byte2text(enc))"
   ]
  },
  {
   "cell_type": "code",
   "execution_count": 9,
   "metadata": {
    "ExecuteTime": {
     "end_time": "2020-03-06T08:02:10.492742Z",
     "start_time": "2020-03-06T08:02:10.075112Z"
    }
   },
   "outputs": [
    {
     "name": "stdout",
     "output_type": "stream",
     "text": [
      "54657374206d657373616765\n"
     ]
    }
   ],
   "source": [
    "decr = np.array([*cbc_decrypt(iter(enc), test_key), ])\n",
    "print(byte2text(decr))"
   ]
  },
  {
   "cell_type": "code",
   "execution_count": 34,
   "metadata": {
    "ExecuteTime": {
     "end_time": "2020-03-06T06:48:29.499926Z",
     "start_time": "2020-03-06T06:48:29.496796Z"
    }
   },
   "outputs": [
    {
     "name": "stdout",
     "output_type": "stream",
     "text": [
      "[[[ True  True  True  True]\n",
      "  [ True  True  True  True]\n",
      "  [ True  True  True  True]\n",
      "  [ True  True  True  True]]\n",
      "\n",
      " [[ True  True  True  True]\n",
      "  [ True  True  True  True]\n",
      "  [ True  True  True  True]\n",
      "  [ True  True  True  True]]\n",
      "\n",
      " [[ True  True  True  True]\n",
      "  [ True  True  True  True]\n",
      "  [ True  True  True  True]\n",
      "  [ True  True  True  True]]]\n"
     ]
    }
   ],
   "source": [
    "print(decr == encoded)"
   ]
  },
  {
   "cell_type": "markdown",
   "metadata": {},
   "source": [
    "## CTR"
   ]
  },
  {
   "cell_type": "code",
   "execution_count": 6,
   "metadata": {
    "ExecuteTime": {
     "end_time": "2020-03-06T07:56:03.465631Z",
     "start_time": "2020-03-06T07:56:03.463438Z"
    }
   },
   "outputs": [],
   "source": [
    "from lab2.stream_mods import ctr_encrypt, ctr_decrypt"
   ]
  },
  {
   "cell_type": "code",
   "execution_count": 17,
   "metadata": {
    "ExecuteTime": {
     "end_time": "2020-03-06T08:06:54.676220Z",
     "start_time": "2020-03-06T08:06:54.668767Z"
    }
   },
   "outputs": [
    {
     "name": "stdout",
     "output_type": "stream",
     "text": [
      "54207320656d61667365676f74736572\n"
     ]
    },
    {
     "data": {
      "text/plain": [
       "'54202020454b464353454f5454595252'"
      ]
     },
     "execution_count": 17,
     "metadata": {},
     "output_type": "execute_result"
    }
   ],
   "source": [
    "text = \"Test message for testing CTR stream mod.\"\n",
    "\n",
    "test_key = next(text2byte_generator(\"TEST KEY FOR CTR\"))\n",
    "print(byte2text(next(text2byte_generator(text))))\n",
    "encoded = np.array([*text2byte_generator(text), ])\n",
    "byte2text(test_key)"
   ]
  },
  {
   "cell_type": "code",
   "execution_count": 8,
   "metadata": {
    "ExecuteTime": {
     "end_time": "2020-03-06T07:56:05.522136Z",
     "start_time": "2020-03-06T07:56:03.882004Z"
    }
   },
   "outputs": [
    {
     "data": {
      "text/plain": [
       "'f4d5cbe413ff8c03d19549bb57da78b780c4dde347fb871782b77a8c57cf63b7c5d1d5b05efd8d5ea2f42ede77bc17c5'"
      ]
     },
     "execution_count": 8,
     "metadata": {},
     "output_type": "execute_result"
    }
   ],
   "source": [
    "enc = np.array([*ctr_encrypt(iter(encoded), test_key), ])\n",
    "byte2text(enc)"
   ]
  },
  {
   "cell_type": "code",
   "execution_count": 6,
   "metadata": {
    "ExecuteTime": {
     "end_time": "2020-03-06T07:51:39.181264Z",
     "start_time": "2020-03-06T07:51:37.831334Z"
    }
   },
   "outputs": [
    {
     "name": "stdout",
     "output_type": "stream",
     "text": [
      "Test message for testing CTR stream mod.\n"
     ]
    }
   ],
   "source": [
    "fdecr = np.array([*ctr_decrypt(iter(enc), test_key), ])\n",
    "print(byte2text(decr))"
   ]
  },
  {
   "cell_type": "code",
   "execution_count": 18,
   "metadata": {
    "ExecuteTime": {
     "end_time": "2020-03-06T06:45:32.146590Z",
     "start_time": "2020-03-06T06:45:32.143948Z"
    }
   },
   "outputs": [
    {
     "name": "stdout",
     "output_type": "stream",
     "text": [
      "[[[ True  True  True  True]\n",
      "  [ True  True  True  True]\n",
      "  [ True  True  True  True]\n",
      "  [ True  True  True  True]]\n",
      "\n",
      " [[ True  True  True  True]\n",
      "  [ True  True  True  True]\n",
      "  [ True  True  True  True]\n",
      "  [ True  True  True  True]]\n",
      "\n",
      " [[ True  True  True  True]\n",
      "  [ True  True  True  True]\n",
      "  [ True  True  True  True]\n",
      "  [ True  True  True  True]]]\n"
     ]
    }
   ],
   "source": [
    "print(decr == encoded)"
   ]
  },
  {
   "cell_type": "markdown",
   "metadata": {},
   "source": [
    "### TEST"
   ]
  },
  {
   "cell_type": "code",
   "execution_count": 26,
   "metadata": {
    "ExecuteTime": {
     "end_time": "2020-03-06T08:11:13.103876Z",
     "start_time": "2020-03-06T08:11:13.098528Z"
    }
   },
   "outputs": [
    {
     "data": {
      "text/plain": [
       "'3925841d02dc09fbdc118597196a0b32'"
      ]
     },
     "execution_count": 26,
     "metadata": {},
     "output_type": "execute_result"
    }
   ],
   "source": [
    "from Crypto.Cipher import AES\n",
    "pkey = b'\\x2b\\x7e\\x15\\x16\\x28\\xae\\xd2\\xa6\\xab\\xf7\\x15\\x88\\x09\\xcf\\x4f\\x3c'\n",
    "encryptor = AES.new(pkey, AES.MODE_ECB)\n",
    "message = b\"\\x32\\x43\\xf6\\xa8\\x88\\x5a\\x30\\x8d\\x31\\x31\\x98\\xa2\\xe0\\x37\\x07\\x34\"\n",
    "encryptor.encrypt(message).hex()"
   ]
  },
  {
   "cell_type": "code",
   "execution_count": 24,
   "metadata": {
    "ExecuteTime": {
     "end_time": "2020-03-06T08:10:17.865734Z",
     "start_time": "2020-03-06T08:10:17.471972Z"
    }
   },
   "outputs": [],
   "source": [
    "enc = encrypt(inp, key)"
   ]
  },
  {
   "cell_type": "code",
   "execution_count": 21,
   "metadata": {
    "ExecuteTime": {
     "end_time": "2020-03-06T06:45:34.719205Z",
     "start_time": "2020-03-06T06:45:34.715595Z"
    }
   },
   "outputs": [
    {
     "data": {
      "text/plain": [
       "array([[39, 02, dc, 19],\n",
       "       [25, dc, 11, 6a],\n",
       "       [84, 09, 85, 0b],\n",
       "       [1d, fb, 97, 32]], dtype=object)"
      ]
     },
     "execution_count": 21,
     "metadata": {},
     "output_type": "execute_result"
    }
   ],
   "source": [
    "enc"
   ]
  },
  {
   "cell_type": "code",
   "execution_count": 102,
   "metadata": {
    "ExecuteTime": {
     "end_time": "2020-03-06T07:35:59.532798Z",
     "start_time": "2020-03-06T07:35:59.526885Z"
    }
   },
   "outputs": [
    {
     "name": "stdout",
     "output_type": "stream",
     "text": [
      "[[32 88 31 e0]\n",
      " [43 5a 31 37]\n",
      " [f6 30 98 07]\n",
      " [a8 8d a2 34]] \n",
      " [[32 88 31 60]\n",
      " [43 5a 31 37]\n",
      " [f6 30 98 07]\n",
      " [a8 8d a2 34]]\n"
     ]
    }
   ],
   "source": [
    "def change_random_bit(st):\n",
    "    state = deepcopy(st)\n",
    "    state[np.random.randint(4)][np.random.randint(4)].bits[np.random.randint(8)] =\\\n",
    "    not state[np.random.randint(4)][np.random.randint(4)].bits[np.random.randint(8)]\n",
    "    return state\n",
    "\n",
    "def dist(state1, state2):\n",
    "    res = 0\n",
    "    for row1, row2 in zip(state1, state2):\n",
    "        for cell1, cell2 in zip(row1, row2):\n",
    "            res += cell1.compare(cell2)\n",
    "    return res        \n",
    "\n",
    "st = change_random_bit(inp)\n",
    "print(inp,'\\n',st)"
   ]
  },
  {
   "cell_type": "code",
   "execution_count": 127,
   "metadata": {
    "ExecuteTime": {
     "end_time": "2020-03-06T07:45:03.551562Z",
     "start_time": "2020-03-06T07:44:57.341347Z"
    }
   },
   "outputs": [
    {
     "data": {
      "text/plain": [
       "63.0"
      ]
     },
     "execution_count": 127,
     "metadata": {},
     "output_type": "execute_result"
    }
   ],
   "source": [
    "base = encrypt(inp, key, 7)\n",
    "dists = []\n",
    "for i in range(20):\n",
    "    st = change_random_bit(inp)\n",
    "    ct = encrypt(st, key, 7)\n",
    "    d = dist(base, ct)\n",
    "    if d!=0:\n",
    "        dists.append(d)\n",
    "        \n",
    "np.mean(dists)"
   ]
  },
  {
   "cell_type": "code",
   "execution_count": 128,
   "metadata": {
    "ExecuteTime": {
     "end_time": "2020-03-06T07:45:04.952247Z",
     "start_time": "2020-03-06T07:45:04.820868Z"
    }
   },
   "outputs": [
    {
     "data": {
      "text/plain": [
       "(array([1., 0., 0., 0., 0., 4., 2., 1., 0., 1.]),\n",
       " array([53. , 54.7, 56.4, 58.1, 59.8, 61.5, 63.2, 64.9, 66.6, 68.3, 70. ]),\n",
       " <a list of 10 Patch objects>)"
      ]
     },
     "execution_count": 128,
     "metadata": {},
     "output_type": "execute_result"
    },
    {
     "data": {
      "image/png": "[encoded data removed]",
      "text/plain": [
       "<Figure size 432x288 with 1 Axes>"
      ]
     },
     "metadata": {
      "needs_background": "light"
     },
     "output_type": "display_data"
    }
   ],
   "source": [
    "plt.hist(dists)"
   ]
  },
  {
   "cell_type": "code",
   "execution_count": 129,
   "metadata": {
    "ExecuteTime": {
     "end_time": "2020-03-06T07:45:05.585910Z",
     "start_time": "2020-03-06T07:45:05.579148Z"
    }
   },
   "outputs": [
    {
     "data": {
      "text/plain": [
       "70"
      ]
     },
     "execution_count": 129,
     "metadata": {},
     "output_type": "execute_result"
    }
   ],
   "source": [
    "max(dists)"
   ]
  },
  {
   "cell_type": "code",
   "execution_count": 130,
   "metadata": {
    "ExecuteTime": {
     "end_time": "2020-03-06T07:45:06.395670Z",
     "start_time": "2020-03-06T07:45:06.392621Z"
    }
   },
   "outputs": [
    {
     "data": {
      "text/plain": [
       "63.0"
      ]
     },
     "execution_count": 130,
     "metadata": {},
     "output_type": "execute_result"
    }
   ],
   "source": [
    "np.mean(dists)"
   ]
  },
  {
   "cell_type": "code",
   "execution_count": 131,
   "metadata": {
    "ExecuteTime": {
     "end_time": "2020-03-06T07:45:06.799913Z",
     "start_time": "2020-03-06T07:45:06.793559Z"
    }
   },
   "outputs": [
    {
     "data": {
      "text/plain": [
       "53"
      ]
     },
     "execution_count": 131,
     "metadata": {},
     "output_type": "execute_result"
    }
   ],
   "source": [
    "min(dists)"
   ]
  }
 ],
 "metadata": {
  "kernelspec": {
   "display_name": "Python 3",
   "language": "python",
   "name": "python3"
  },
  "language_info": {
   "codemirror_mode": {
    "name": "ipython",
    "version": 3
   },
   "file_extension": ".py",
   "mimetype": "text/x-python",
   "name": "python",
   "nbconvert_exporter": "python",
   "pygments_lexer": "ipython3",
   "version": "3.7.4"
  }
 },
 "nbformat": 4,
 "nbformat_minor": 2
}
