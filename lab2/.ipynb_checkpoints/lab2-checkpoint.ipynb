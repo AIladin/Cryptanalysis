{
 "cells": [
  {
   "cell_type": "code",
   "execution_count": 1,
   "metadata": {
    "ExecuteTime": {
     "end_time": "2020-02-28T06:47:21.986616Z",
     "start_time": "2020-02-28T06:47:21.983185Z"
    }
   },
   "outputs": [],
   "source": [
    "import sys\n",
    "sys.path.append('..')"
   ]
  },
  {
   "cell_type": "code",
   "execution_count": 131,
   "metadata": {
    "ExecuteTime": {
     "end_time": "2020-02-28T08:07:03.929742Z",
     "start_time": "2020-02-28T08:07:02.299970Z"
    }
   },
   "outputs": [],
   "source": [
    "import numpy as np\n",
    "from lab2.AES import encrypt, decrypt\n",
    "from lab2.ByteGF import BitGF\n",
    "from lab2.utils import *\n",
    "from copy import deepcopy\n",
    "import matplotlib.pyplot as plt"
   ]
  },
  {
   "cell_type": "markdown",
   "metadata": {},
   "source": [
    "# AES - 128"
   ]
  },
  {
   "cell_type": "markdown",
   "metadata": {},
   "source": [
    "<img src = \"Screenshot from 2020-02-27 19-44-20.png\">"
   ]
  },
  {
   "cell_type": "code",
   "execution_count": 86,
   "metadata": {
    "ExecuteTime": {
     "end_time": "2020-02-28T07:40:49.828241Z",
     "start_time": "2020-02-28T07:40:49.819014Z"
    }
   },
   "outputs": [
    {
     "name": "stdout",
     "output_type": "stream",
     "text": [
      "[[32 88 31 e0]\n",
      " [43 5a 31 37]\n",
      " [f6 30 98 07]\n",
      " [a8 8d a2 34]] \n",
      "\n",
      " [[2b 28 ab 09]\n",
      " [7e ae f7 cf]\n",
      " [15 d2 15 4f]\n",
      " [16 a6 88 3c]]\n"
     ]
    }
   ],
   "source": [
    "inp = np.array([\n",
    "        BitGF.from_hex('32'),\n",
    "        BitGF.from_hex('43'),\n",
    "        BitGF.from_hex('f6'),\n",
    "        BitGF.from_hex('a8'),\n",
    "        BitGF.from_hex('88'),\n",
    "        BitGF.from_hex('5a'),\n",
    "        BitGF.from_hex('30'),\n",
    "        BitGF.from_hex('8d'),\n",
    "        BitGF.from_hex('31'),\n",
    "        BitGF.from_hex('31'),\n",
    "        BitGF.from_hex('98'),\n",
    "        BitGF.from_hex('a2'),\n",
    "        BitGF.from_hex('e0'),\n",
    "        BitGF.from_hex('37'),\n",
    "        BitGF.from_hex('07'),\n",
    "        BitGF.from_hex('34'),\n",
    "    ]).reshape((4, 4)).transpose()\n",
    "\n",
    "key = np.array([\n",
    "    BitGF.from_hex('2b'),\n",
    "    BitGF.from_hex('7e'),\n",
    "    BitGF.from_hex('15'),\n",
    "    BitGF.from_hex('16'),\n",
    "    BitGF.from_hex('28'),\n",
    "    BitGF.from_hex('ae'),\n",
    "    BitGF.from_hex('d2'),\n",
    "    BitGF.from_hex('a6'),\n",
    "    BitGF.from_hex('ab'),\n",
    "    BitGF.from_hex('f7'),\n",
    "    BitGF.from_hex('15'),\n",
    "    BitGF.from_hex('88'),\n",
    "    BitGF.from_hex('09'),\n",
    "    BitGF.from_hex('cf'),\n",
    "    BitGF.from_hex('4f'),\n",
    "    BitGF.from_hex('3c'),\n",
    "]).reshape((4, 4)).transpose()\n",
    "\n",
    "print(inp, '\\n\\n', key)"
   ]
  },
  {
   "cell_type": "markdown",
   "metadata": {},
   "source": [
    "<img src = 'Screenshot from 2020-02-27 19-50-04.png'>"
   ]
  },
  {
   "cell_type": "code",
   "execution_count": 4,
   "metadata": {
    "ExecuteTime": {
     "end_time": "2020-02-28T06:47:25.318909Z",
     "start_time": "2020-02-28T06:47:24.982973Z"
    }
   },
   "outputs": [
    {
     "data": {
      "text/plain": [
       "array([[39, 02, dc, 19],\n",
       "       [25, dc, 11, 6a],\n",
       "       [84, 09, 85, 0b],\n",
       "       [1d, fb, 97, 32]], dtype=object)"
      ]
     },
     "execution_count": 4,
     "metadata": {},
     "output_type": "execute_result"
    }
   ],
   "source": [
    "enc = encrypt(inp, key)\n",
    "enc"
   ]
  },
  {
   "cell_type": "code",
   "execution_count": 5,
   "metadata": {
    "ExecuteTime": {
     "end_time": "2020-02-28T06:47:25.771555Z",
     "start_time": "2020-02-28T06:47:25.371178Z"
    }
   },
   "outputs": [
    {
     "data": {
      "text/plain": [
       "array([[32, 88, 31, e0],\n",
       "       [43, 5a, 31, 37],\n",
       "       [f6, 30, 98, 07],\n",
       "       [a8, 8d, a2, 34]], dtype=object)"
      ]
     },
     "execution_count": 5,
     "metadata": {},
     "output_type": "execute_result"
    }
   ],
   "source": [
    "decrypted = decrypt(enc, key)\n",
    "decrypted"
   ]
  },
  {
   "cell_type": "code",
   "execution_count": 6,
   "metadata": {
    "ExecuteTime": {
     "end_time": "2020-02-28T06:47:25.776078Z",
     "start_time": "2020-02-28T06:47:25.773171Z"
    }
   },
   "outputs": [
    {
     "data": {
      "text/plain": [
       "array([[ True,  True,  True,  True],\n",
       "       [ True,  True,  True,  True],\n",
       "       [ True,  True,  True,  True],\n",
       "       [ True,  True,  True,  True]])"
      ]
     },
     "execution_count": 6,
     "metadata": {},
     "output_type": "execute_result"
    }
   ],
   "source": [
    "decrypted == inp"
   ]
  },
  {
   "cell_type": "markdown",
   "metadata": {},
   "source": [
    "# Як зміниться криптотекст якщо в початковому тексті замінити один біт?"
   ]
  },
  {
   "cell_type": "code",
   "execution_count": 126,
   "metadata": {
    "ExecuteTime": {
     "end_time": "2020-02-28T08:01:16.236708Z",
     "start_time": "2020-02-28T08:01:16.229825Z"
    }
   },
   "outputs": [],
   "source": [
    "changed_inp = deepcopy(inp)\n",
    "arr = []"
   ]
  },
  {
   "cell_type": "code",
   "execution_count": 146,
   "metadata": {
    "ExecuteTime": {
     "end_time": "2020-02-28T08:15:13.764305Z",
     "start_time": "2020-02-28T08:15:13.755081Z"
    }
   },
   "outputs": [
    {
     "ename": "NameError",
     "evalue": "name 'get_random_bytes' is not defined",
     "output_type": "error",
     "traceback": [
      "\u001b[0;31m---------------------------------------------------------------------------\u001b[0m",
      "\u001b[0;31mNameError\u001b[0m                                 Traceback (most recent call last)",
      "\u001b[0;32m<ipython-input-146-c670ec20e995>\u001b[0m in \u001b[0;36m<module>\u001b[0;34m\u001b[0m\n\u001b[0;32m----> 1\u001b[0;31m \u001b[0mkey\u001b[0m \u001b[0;34m=\u001b[0m \u001b[0mget_random_bytes\u001b[0m\u001b[0;34m(\u001b[0m\u001b[0;36m16\u001b[0m\u001b[0;34m)\u001b[0m\u001b[0;34m\u001b[0m\u001b[0;34m\u001b[0m\u001b[0m\n\u001b[0m\u001b[1;32m      2\u001b[0m \u001b[0mtest_block\u001b[0m \u001b[0;34m=\u001b[0m \u001b[0mget_random_bytes\u001b[0m\u001b[0;34m(\u001b[0m\u001b[0;36m16\u001b[0m\u001b[0;34m)\u001b[0m\u001b[0;34m\u001b[0m\u001b[0;34m\u001b[0m\u001b[0m\n\u001b[1;32m      3\u001b[0m \u001b[0mcipher\u001b[0m \u001b[0;34m=\u001b[0m \u001b[0mAES\u001b[0m\u001b[0;34m.\u001b[0m\u001b[0mnew\u001b[0m\u001b[0;34m(\u001b[0m\u001b[0mkey\u001b[0m\u001b[0;34m,\u001b[0m \u001b[0mAES\u001b[0m\u001b[0;34m.\u001b[0m\u001b[0mMODE_ECB\u001b[0m\u001b[0;34m)\u001b[0m\u001b[0;34m\u001b[0m\u001b[0;34m\u001b[0m\u001b[0m\n\u001b[1;32m      4\u001b[0m \u001b[0mtarget\u001b[0m \u001b[0;34m=\u001b[0m \u001b[0mcipher\u001b[0m\u001b[0;34m.\u001b[0m\u001b[0mencrypt\u001b[0m\u001b[0;34m(\u001b[0m\u001b[0mtest_block\u001b[0m\u001b[0;34m)\u001b[0m\u001b[0;34m\u001b[0m\u001b[0;34m\u001b[0m\u001b[0m\n",
      "\u001b[0;31mNameError\u001b[0m: name 'get_random_bytes' is not defined"
     ]
    }
   ],
   "source": []
  },
  {
   "cell_type": "code",
   "execution_count": 145,
   "metadata": {
    "ExecuteTime": {
     "end_time": "2020-02-28T08:14:13.985621Z",
     "start_time": "2020-02-28T08:14:13.977060Z"
    }
   },
   "outputs": [
    {
     "ename": "ValueError",
     "evalue": "setting an array element with a sequence.",
     "output_type": "error",
     "traceback": [
      "\u001b[0;31m---------------------------------------------------------------------------\u001b[0m",
      "\u001b[0;31mValueError\u001b[0m                                Traceback (most recent call last)",
      "\u001b[0;32m<ipython-input-145-0b8003049df6>\u001b[0m in \u001b[0;36m<module>\u001b[0;34m\u001b[0m\n\u001b[1;32m      2\u001b[0m \u001b[0mget_bits\u001b[0m \u001b[0;34m=\u001b[0m \u001b[0mnp\u001b[0m\u001b[0;34m.\u001b[0m\u001b[0mvectorize\u001b[0m\u001b[0;34m(\u001b[0m\u001b[0;32mlambda\u001b[0m \u001b[0mx\u001b[0m\u001b[0;34m:\u001b[0m \u001b[0mx\u001b[0m\u001b[0;34m.\u001b[0m\u001b[0mbits\u001b[0m\u001b[0;34m)\u001b[0m\u001b[0;34m\u001b[0m\u001b[0;34m\u001b[0m\u001b[0m\n\u001b[1;32m      3\u001b[0m \u001b[0;32mfor\u001b[0m \u001b[0melemnt\u001b[0m \u001b[0;32min\u001b[0m \u001b[0marr\u001b[0m\u001b[0;34m:\u001b[0m\u001b[0;34m\u001b[0m\u001b[0;34m\u001b[0m\u001b[0m\n\u001b[0;32m----> 4\u001b[0;31m     \u001b[0mbit\u001b[0m \u001b[0;34m=\u001b[0m \u001b[0mget_bits\u001b[0m\u001b[0;34m(\u001b[0m\u001b[0melemnt\u001b[0m\u001b[0;34m)\u001b[0m\u001b[0;34m\u001b[0m\u001b[0;34m\u001b[0m\u001b[0m\n\u001b[0m\u001b[1;32m      5\u001b[0m     \u001b[0mprint\u001b[0m\u001b[0;34m(\u001b[0m\u001b[0;34m(\u001b[0m\u001b[0mbit\u001b[0m \u001b[0;34m==\u001b[0m \u001b[0mget_bits\u001b[0m\u001b[0;34m(\u001b[0m\u001b[0menc\u001b[0m\u001b[0;34m)\u001b[0m\u001b[0;34m)\u001b[0m\u001b[0;34m)\u001b[0m\u001b[0;34m\u001b[0m\u001b[0;34m\u001b[0m\u001b[0m\n\u001b[1;32m      6\u001b[0m \u001b[0;31m#plt.hist(means)\u001b[0m\u001b[0;34m\u001b[0m\u001b[0;34m\u001b[0m\u001b[0;34m\u001b[0m\u001b[0m\n",
      "\u001b[0;32m~/anaconda3/lib/python3.7/site-packages/numpy/lib/function_base.py\u001b[0m in \u001b[0;36m__call__\u001b[0;34m(self, *args, **kwargs)\u001b[0m\n\u001b[1;32m   2089\u001b[0m             \u001b[0mvargs\u001b[0m\u001b[0;34m.\u001b[0m\u001b[0mextend\u001b[0m\u001b[0;34m(\u001b[0m\u001b[0;34m[\u001b[0m\u001b[0mkwargs\u001b[0m\u001b[0;34m[\u001b[0m\u001b[0m_n\u001b[0m\u001b[0;34m]\u001b[0m \u001b[0;32mfor\u001b[0m \u001b[0m_n\u001b[0m \u001b[0;32min\u001b[0m \u001b[0mnames\u001b[0m\u001b[0;34m]\u001b[0m\u001b[0;34m)\u001b[0m\u001b[0;34m\u001b[0m\u001b[0;34m\u001b[0m\u001b[0m\n\u001b[1;32m   2090\u001b[0m \u001b[0;34m\u001b[0m\u001b[0m\n\u001b[0;32m-> 2091\u001b[0;31m         \u001b[0;32mreturn\u001b[0m \u001b[0mself\u001b[0m\u001b[0;34m.\u001b[0m\u001b[0m_vectorize_call\u001b[0m\u001b[0;34m(\u001b[0m\u001b[0mfunc\u001b[0m\u001b[0;34m=\u001b[0m\u001b[0mfunc\u001b[0m\u001b[0;34m,\u001b[0m \u001b[0margs\u001b[0m\u001b[0;34m=\u001b[0m\u001b[0mvargs\u001b[0m\u001b[0;34m)\u001b[0m\u001b[0;34m\u001b[0m\u001b[0;34m\u001b[0m\u001b[0m\n\u001b[0m\u001b[1;32m   2092\u001b[0m \u001b[0;34m\u001b[0m\u001b[0m\n\u001b[1;32m   2093\u001b[0m     \u001b[0;32mdef\u001b[0m \u001b[0m_get_ufunc_and_otypes\u001b[0m\u001b[0;34m(\u001b[0m\u001b[0mself\u001b[0m\u001b[0;34m,\u001b[0m \u001b[0mfunc\u001b[0m\u001b[0;34m,\u001b[0m \u001b[0margs\u001b[0m\u001b[0;34m)\u001b[0m\u001b[0;34m:\u001b[0m\u001b[0;34m\u001b[0m\u001b[0;34m\u001b[0m\u001b[0m\n",
      "\u001b[0;32m~/anaconda3/lib/python3.7/site-packages/numpy/lib/function_base.py\u001b[0m in \u001b[0;36m_vectorize_call\u001b[0;34m(self, func, args)\u001b[0m\n\u001b[1;32m   2168\u001b[0m \u001b[0;34m\u001b[0m\u001b[0m\n\u001b[1;32m   2169\u001b[0m             \u001b[0;32mif\u001b[0m \u001b[0mufunc\u001b[0m\u001b[0;34m.\u001b[0m\u001b[0mnout\u001b[0m \u001b[0;34m==\u001b[0m \u001b[0;36m1\u001b[0m\u001b[0;34m:\u001b[0m\u001b[0;34m\u001b[0m\u001b[0;34m\u001b[0m\u001b[0m\n\u001b[0;32m-> 2170\u001b[0;31m                 \u001b[0mres\u001b[0m \u001b[0;34m=\u001b[0m \u001b[0marray\u001b[0m\u001b[0;34m(\u001b[0m\u001b[0moutputs\u001b[0m\u001b[0;34m,\u001b[0m \u001b[0mcopy\u001b[0m\u001b[0;34m=\u001b[0m\u001b[0;32mFalse\u001b[0m\u001b[0;34m,\u001b[0m \u001b[0msubok\u001b[0m\u001b[0;34m=\u001b[0m\u001b[0;32mTrue\u001b[0m\u001b[0;34m,\u001b[0m \u001b[0mdtype\u001b[0m\u001b[0;34m=\u001b[0m\u001b[0motypes\u001b[0m\u001b[0;34m[\u001b[0m\u001b[0;36m0\u001b[0m\u001b[0;34m]\u001b[0m\u001b[0;34m)\u001b[0m\u001b[0;34m\u001b[0m\u001b[0;34m\u001b[0m\u001b[0m\n\u001b[0m\u001b[1;32m   2171\u001b[0m             \u001b[0;32melse\u001b[0m\u001b[0;34m:\u001b[0m\u001b[0;34m\u001b[0m\u001b[0;34m\u001b[0m\u001b[0m\n\u001b[1;32m   2172\u001b[0m                 res = tuple([array(x, copy=False, subok=True, dtype=t)\n",
      "\u001b[0;31mValueError\u001b[0m: setting an array element with a sequence."
     ]
    }
   ],
   "source": [
    "means = []\n",
    "get_bits = np.vectorize(lambda x: x.bits)\n",
    "for elemnt in arr:\n",
    "    bit = get_bits(elemnt)\n",
    "    print((bit == get_bits(enc)))\n",
    "#plt.hist(means)"
   ]
  },
  {
   "cell_type": "code",
   "execution_count": null,
   "metadata": {},
   "outputs": [],
   "source": []
  },
  {
   "cell_type": "code",
   "execution_count": 128,
   "metadata": {
    "ExecuteTime": {
     "end_time": "2020-02-28T08:06:04.976784Z",
     "start_time": "2020-02-28T08:06:04.630126Z"
    }
   },
   "outputs": [
    {
     "data": {
      "text/plain": [
       "array([[39, 02, dc, 19],\n",
       "       [25, dc, 11, 6a],\n",
       "       [84, 09, 85, 0b],\n",
       "       [1d, fb, 97, 32]], dtype=object)"
      ]
     },
     "execution_count": 128,
     "metadata": {},
     "output_type": "execute_result"
    }
   ],
   "source": [
    "enc = encrypt(inp, key)\n",
    "enc"
   ]
  },
  {
   "cell_type": "code",
   "execution_count": 11,
   "metadata": {
    "ExecuteTime": {
     "end_time": "2020-02-28T06:47:29.156583Z",
     "start_time": "2020-02-28T06:47:28.784900Z"
    }
   },
   "outputs": [
    {
     "data": {
      "text/plain": [
       "array([[40, 1b, 8d, 00],\n",
       "       [60, 77, 67, 1d],\n",
       "       [6c, b6, 5b, fc],\n",
       "       [eb, 01, 3b, 6f]], dtype=object)"
      ]
     },
     "execution_count": 11,
     "metadata": {},
     "output_type": "execute_result"
    }
   ],
   "source": [
    "changed_bit_enc = encrypt(changed_inp, key)\n",
    "changed_bit_enc"
   ]
  },
  {
   "cell_type": "code",
   "execution_count": 12,
   "metadata": {
    "ExecuteTime": {
     "end_time": "2020-02-28T06:47:29.400888Z",
     "start_time": "2020-02-28T06:47:29.390536Z"
    }
   },
   "outputs": [
    {
     "data": {
      "text/plain": [
       "array([[False, False, False, False],\n",
       "       [False, False, False, False],\n",
       "       [False, False, False, False],\n",
       "       [False, False, False, False]])"
      ]
     },
     "execution_count": 12,
     "metadata": {},
     "output_type": "execute_result"
    }
   ],
   "source": [
    "enc == changed_bit_enc"
   ]
  },
  {
   "cell_type": "markdown",
   "metadata": {},
   "source": [
    "Як видно з останньго виводу криптотексти не  співпадають в жодному байті."
   ]
  },
  {
   "cell_type": "markdown",
   "metadata": {},
   "source": [
    "# Потокові режими"
   ]
  },
  {
   "cell_type": "markdown",
   "metadata": {},
   "source": [
    "## CBC"
   ]
  },
  {
   "cell_type": "code",
   "execution_count": 13,
   "metadata": {
    "ExecuteTime": {
     "end_time": "2020-02-28T06:47:31.169996Z",
     "start_time": "2020-02-28T06:47:31.074985Z"
    }
   },
   "outputs": [],
   "source": [
    "from lab2.stream_mods import cbc_encrypt, cbc_decrypt"
   ]
  },
  {
   "cell_type": "code",
   "execution_count": 14,
   "metadata": {
    "ExecuteTime": {
     "end_time": "2020-02-28T06:47:31.429599Z",
     "start_time": "2020-02-28T06:47:31.419251Z"
    }
   },
   "outputs": [],
   "source": [
    "text = \"Test message for testing CBC stream mod.\"\n",
    "\n",
    "test_key = next(text2byte_generator(\"TEST KEY FOR ME.\"))\n",
    "\n",
    "encoded = np.array([*text2byte_generator(text), ])"
   ]
  },
  {
   "cell_type": "code",
   "execution_count": 15,
   "metadata": {
    "ExecuteTime": {
     "end_time": "2020-02-28T06:47:32.946864Z",
     "start_time": "2020-02-28T06:47:31.953883Z"
    }
   },
   "outputs": [
    {
     "name": "stdout",
     "output_type": "stream",
     "text": [
      "2{Jçp\u001føKQg¹µ",
      "ý\u0014ªdMøæÒ\u0003t¿ÍL%©Ê\u0014¸s|­@ºà®*\u0004¯á|M bæçhÇÄ\u001d",
      "#\n"
     ]
    }
   ],
   "source": [
    "enc = np.array([*cbc_encrypt(iter(encoded), test_key), ])\n",
    "print(byte2text(enc))"
   ]
  },
  {
   "cell_type": "code",
   "execution_count": 16,
   "metadata": {
    "ExecuteTime": {
     "end_time": "2020-02-28T06:47:34.389399Z",
     "start_time": "2020-02-28T06:47:33.358181Z"
    }
   },
   "outputs": [
    {
     "name": "stdout",
     "output_type": "stream",
     "text": [
      "Test message for testing CBC stream mod.\n"
     ]
    }
   ],
   "source": [
    "decr = np.array([*cbc_decrypt(iter(enc), test_key), ])\n",
    "print(byte2text(decr))"
   ]
  },
  {
   "cell_type": "code",
   "execution_count": 17,
   "metadata": {
    "ExecuteTime": {
     "end_time": "2020-02-28T06:47:34.393627Z",
     "start_time": "2020-02-28T06:47:34.390776Z"
    }
   },
   "outputs": [
    {
     "name": "stdout",
     "output_type": "stream",
     "text": [
      "[[[ True  True  True  True]\n",
      "  [ True  True  True  True]\n",
      "  [ True  True  True  True]\n",
      "  [ True  True  True  True]]\n",
      "\n",
      " [[ True  True  True  True]\n",
      "  [ True  True  True  True]\n",
      "  [ True  True  True  True]\n",
      "  [ True  True  True  True]]\n",
      "\n",
      " [[ True  True  True  True]\n",
      "  [ True  True  True  True]\n",
      "  [ True  True  True  True]\n",
      "  [ True  True  True  True]]]\n"
     ]
    }
   ],
   "source": [
    "print(decr == encoded)"
   ]
  },
  {
   "cell_type": "markdown",
   "metadata": {},
   "source": [
    "## CTR"
   ]
  },
  {
   "cell_type": "code",
   "execution_count": 18,
   "metadata": {
    "ExecuteTime": {
     "end_time": "2020-02-28T06:47:35.798827Z",
     "start_time": "2020-02-28T06:47:35.796852Z"
    }
   },
   "outputs": [],
   "source": [
    "from lab2.stream_mods import ctr_encrypt, ctr_decrypt"
   ]
  },
  {
   "cell_type": "code",
   "execution_count": 19,
   "metadata": {
    "ExecuteTime": {
     "end_time": "2020-02-28T06:47:36.159455Z",
     "start_time": "2020-02-28T06:47:36.150627Z"
    }
   },
   "outputs": [],
   "source": [
    "text = \"Test message for testing CTR stream mod.\"\n",
    "\n",
    "test_key = next(text2byte_generator(\"TEST KEY FOR CTR\"))\n",
    "\n",
    "encoded = np.array([*text2byte_generator(text), ])"
   ]
  },
  {
   "cell_type": "code",
   "execution_count": 20,
   "metadata": {
    "ExecuteTime": {
     "end_time": "2020-02-28T06:47:37.505790Z",
     "start_time": "2020-02-28T06:47:36.500125Z"
    }
   },
   "outputs": [
    {
     "name": "stdout",
     "output_type": "stream",
     "text": [
      "ôÕËä\u0013ÿ\u0003ÑI»WÚx·ÄÝãGû\u0017·zWÏc·ÅÑÕ°^ý^¢ô.Þw¼\u0017Å\n"
     ]
    }
   ],
   "source": [
    "enc = np.array([*ctr_encrypt(iter(encoded), test_key), ])\n",
    "print(byte2text(enc))"
   ]
  },
  {
   "cell_type": "code",
   "execution_count": 21,
   "metadata": {
    "ExecuteTime": {
     "end_time": "2020-02-28T06:47:38.549685Z",
     "start_time": "2020-02-28T06:47:37.506906Z"
    }
   },
   "outputs": [
    {
     "name": "stdout",
     "output_type": "stream",
     "text": [
      "Test message for testing CTR stream mod.\n"
     ]
    }
   ],
   "source": [
    "decr = np.array([*ctr_decrypt(iter(enc), test_key), ])\n",
    "print(byte2text(decr))"
   ]
  },
  {
   "cell_type": "code",
   "execution_count": 22,
   "metadata": {
    "ExecuteTime": {
     "end_time": "2020-02-28T06:47:38.553486Z",
     "start_time": "2020-02-28T06:47:38.550961Z"
    }
   },
   "outputs": [
    {
     "name": "stdout",
     "output_type": "stream",
     "text": [
      "[[[ True  True  True  True]\n",
      "  [ True  True  True  True]\n",
      "  [ True  True  True  True]\n",
      "  [ True  True  True  True]]\n",
      "\n",
      " [[ True  True  True  True]\n",
      "  [ True  True  True  True]\n",
      "  [ True  True  True  True]\n",
      "  [ True  True  True  True]]\n",
      "\n",
      " [[ True  True  True  True]\n",
      "  [ True  True  True  True]\n",
      "  [ True  True  True  True]\n",
      "  [ True  True  True  True]]]\n"
     ]
    }
   ],
   "source": [
    "print(decr == encoded)"
   ]
  },
  {
   "cell_type": "markdown",
   "metadata": {},
   "source": [
    "### TEST"
   ]
  },
  {
   "cell_type": "code",
   "execution_count": 122,
   "metadata": {
    "ExecuteTime": {
     "end_time": "2020-02-28T07:58:58.379223Z",
     "start_time": "2020-02-28T07:58:58.375310Z"
    }
   },
   "outputs": [
    {
     "data": {
      "text/plain": [
       "'3925841d02dc09fbdc118597196a0b32'"
      ]
     },
     "execution_count": 122,
     "metadata": {},
     "output_type": "execute_result"
    }
   ],
   "source": [
    "from Crypto.Cipher import AES\n",
    "pkey = b'\\x2b\\x7e\\x15\\x16\\x28\\xae\\xd2\\xa6\\xab\\xf7\\x15\\x88\\x09\\xcf\\x4f\\x3c'\n",
    "encryptor = AES.new(pkey, AES.MODE_ECB)\n",
    "message = b\"\\x32\\x43\\xf6\\xa8\\x88\\x5a\\x30\\x8d\\x31\\x31\\x98\\xa2\\xe0\\x37\\x07\\x34\"\n",
    "encryptor.encrypt(message).hex()"
   ]
  },
  {
   "cell_type": "code",
   "execution_count": 123,
   "metadata": {
    "ExecuteTime": {
     "end_time": "2020-02-28T07:58:59.217028Z",
     "start_time": "2020-02-28T07:58:58.620003Z"
    }
   },
   "outputs": [],
   "source": [
    "enc = encrypt(inp, key)"
   ]
  },
  {
   "cell_type": "code",
   "execution_count": 124,
   "metadata": {
    "ExecuteTime": {
     "end_time": "2020-02-28T07:58:59.225055Z",
     "start_time": "2020-02-28T07:58:59.219459Z"
    }
   },
   "outputs": [
    {
     "data": {
      "text/plain": [
       "array([[39, 02, dc, 19],\n",
       "       [25, dc, 11, 6a],\n",
       "       [84, 09, 85, 0b],\n",
       "       [1d, fb, 97, 32]], dtype=object)"
      ]
     },
     "execution_count": 124,
     "metadata": {},
     "output_type": "execute_result"
    }
   ],
   "source": [
    "enc"
   ]
  },
  {
   "cell_type": "code",
   "execution_count": 147,
   "metadata": {
    "ExecuteTime": {
     "end_time": "2020-02-28T08:15:33.425817Z",
     "start_time": "2020-02-28T08:15:33.421052Z"
    }
   },
   "outputs": [],
   "source": [
    "from Crypto.Random import get_random_bytes\n",
    "key = get_random_bytes(16)\n",
    "test_block = get_random_bytes(16)\n",
    "cipher = AES.new(key, AES.MODE_ECB)\n",
    "target = cipher.encrypt(test_block)"
   ]
  },
  {
   "cell_type": "code",
   "execution_count": 148,
   "metadata": {
    "ExecuteTime": {
     "end_time": "2020-02-28T08:15:49.718347Z",
     "start_time": "2020-02-28T08:15:49.697642Z"
    }
   },
   "outputs": [
    {
     "name": "stdout",
     "output_type": "stream",
     "text": [
      "\r",
      "Done: 0.007751937984496124%\r",
      "Done: 0.015503875968992248%\r",
      "Done: 0.023255813953488372%\r",
      "Done: 0.031007751937984496%\r",
      "Done: 0.03875968992248062%\r",
      "Done: 0.046511627906976744%\r",
      "Done: 0.05426356589147287%\r",
      "Done: 0.06201550387596899%\r",
      "Done: 0.06976744186046512%\r",
      "Done: 0.07751937984496124%\r",
      "Done: 0.08527131782945736%\r",
      "Done: 0.09302325581395349%\r",
      "Done: 0.10077519379844961%\r",
      "Done: 0.10852713178294573%\r",
      "Done: 0.11627906976744186%\r",
      "Done: 0.12403100775193798%\r",
      "Done: 0.13178294573643412%\r",
      "Done: 0.13953488372093023%\r",
      "Done: 0.14728682170542637%\r",
      "Done: 0.15503875968992248%\r",
      "Done: 0.16279069767441862%\r",
      "Done: 0.17054263565891473%\r",
      "Done: 0.17829457364341086%\r",
      "Done: 0.18604651162790697%\r",
      "Done: 0.1937984496124031%\r",
      "Done: 0.20155038759689922%\r",
      "Done: 0.20930232558139536%\r",
      "Done: 0.21705426356589147%\r",
      "Done: 0.2248062015503876%\r",
      "Done: 0.23255813953488372%\r",
      "Done: 0.24031007751937986%\r",
      "Done: 0.24806201550387597%\r",
      "Done: 0.2558139534883721%\r",
      "Done: 0.26356589147286824%\r",
      "Done: 0.2713178294573643%\r",
      "Done: 0.27906976744186046%\r",
      "Done: 0.2868217054263566%\r",
      "Done: 0.29457364341085274%\r",
      "Done: 0.3023255813953488%\r",
      "Done: 0.31007751937984496%\r",
      "Done: 0.3178294573643411%\r",
      "Done: 0.32558139534883723%\r",
      "Done: 0.3333333333333333%\r",
      "Done: 0.34108527131782945%\r",
      "Done: 0.3488372093023256%\r",
      "Done: 0.35658914728682173%\r",
      "Done: 0.3643410852713178%\r",
      "Done: 0.37209302325581395%\r",
      "Done: 0.3798449612403101%\r",
      "Done: 0.3875968992248062%\r",
      "Done: 0.3953488372093023%\r",
      "Done: 0.40310077519379844%\r",
      "Done: 0.4108527131782946%\r",
      "Done: 0.4186046511627907%\r",
      "Done: 0.4263565891472868%\r",
      "Done: 0.43410852713178294%\r",
      "Done: 0.4418604651162791%\r",
      "Done: 0.4496124031007752%\r",
      "Done: 0.4573643410852713%\r",
      "Done: 0.46511627906976744%\r",
      "Done: 0.4728682170542636%\r",
      "Done: 0.4806201550387597%\r",
      "Done: 0.4883720930232558%\r",
      "Done: 0.49612403100775193%\r",
      "Done: 0.5038759689922481%\r",
      "Done: 0.5116279069767442%\r",
      "Done: 0.5193798449612403%\r",
      "Done: 0.5271317829457365%\r",
      "Done: 0.5348837209302325%\r",
      "Done: 0.5426356589147286%\r",
      "Done: 0.5503875968992248%\r",
      "Done: 0.5581395348837209%\r",
      "Done: 0.5658914728682171%\r",
      "Done: 0.5736434108527132%\r",
      "Done: 0.5813953488372093%\r",
      "Done: 0.5891472868217055%\r",
      "Done: 0.5968992248062015%\r",
      "Done: 0.6046511627906976%\r",
      "Done: 0.6124031007751938%\r",
      "Done: 0.6201550387596899%\r",
      "Done: 0.627906976744186%\r",
      "Done: 0.6356589147286822%\r",
      "Done: 0.6434108527131783%\r",
      "Done: 0.6511627906976745%\r",
      "Done: 0.6589147286821705%\r",
      "Done: 0.6666666666666666%\r",
      "Done: 0.6744186046511628%\r",
      "Done: 0.6821705426356589%\r",
      "Done: 0.689922480620155%\r",
      "Done: 0.6976744186046512%\r",
      "Done: 0.7054263565891473%\r",
      "Done: 0.7131782945736435%\r",
      "Done: 0.7209302325581395%\r",
      "Done: 0.7286821705426356%\r",
      "Done: 0.7364341085271318%\r",
      "Done: 0.7441860465116279%\r",
      "Done: 0.751937984496124%\r",
      "Done: 0.7596899224806202%\r",
      "Done: 0.7674418604651163%\r",
      "Done: 0.7751937984496124%\r",
      "Done: 0.7829457364341085%\r",
      "Done: 0.7906976744186046%\r",
      "Done: 0.7984496124031008%\r",
      "Done: 0.8062015503875969%\r",
      "Done: 0.813953488372093%\r",
      "Done: 0.8217054263565892%\r",
      "Done: 0.8294573643410853%\r",
      "Done: 0.8372093023255814%\r",
      "Done: 0.8449612403100775%\r",
      "Done: 0.8527131782945736%\r",
      "Done: 0.8604651162790697%\r",
      "Done: 0.8682170542635659%\r",
      "Done: 0.875968992248062%\r",
      "Done: 0.8837209302325582%\r",
      "Done: 0.8914728682170543%\r",
      "Done: 0.8992248062015504%\r",
      "Done: 0.9069767441860465%\r",
      "Done: 0.9147286821705426%\r",
      "Done: 0.9224806201550387%\r",
      "Done: 0.9302325581395349%\r",
      "Done: 0.937984496124031%\r",
      "Done: 0.9457364341085271%\r",
      "Done: 0.9534883720930233%\r",
      "Done: 0.9612403100775194%\r",
      "Done: 0.9689922480620154%\r",
      "Done: 0.9767441860465116%"
     ]
    }
   ],
   "source": [
    "def hd(bytes1, bytes2):\n",
    "    t1, t2 = bytes1.hex(), bytes2.hex()\n",
    "    t1, t2 = int(t1, 16), int(t2, 16)\n",
    "    \n",
    "    res = t1 ^ t2\n",
    "    return bin(res).count('1')\n",
    "    \n",
    "    \n",
    "block_hex = int(test_block.hex(), 16)\n",
    "i = 1\n",
    "xor = 1\n",
    "\n",
    "distances = []\n",
    "\n",
    "amount = len(bin(block_hex))\n",
    "\n",
    "while xor < block_hex:\n",
    "\n",
    "    print(f'\\rDone: {i / amount}%', end='')\n",
    "    \n",
    "    tmp_hex = block_hex ^ xor\n",
    "    try:\n",
    "        tmp_block = bytes.fromhex(hex(tmp_hex)[2:])\n",
    "    except Exception as e:\n",
    "        tmp_block = bytes.fromhex('0'+hex(tmp_hex)[2:])\n",
    "    tmp_res = cipher.encrypt(tmp_block)\n",
    "    distances.append(hd(target, tmp_res))\n",
    "    i += 1\n",
    "    xor = 1 << idef hd(bytes1, bytes2):\n",
    "    t1, t2 = bytes1.hex(), bytes2.hex()\n",
    "    t1, t2 = int(t1, 16), int(t2, 16)\n",
    "    \n",
    "    res = t1 ^ t2\n",
    "    return bin(res).count('1')\n",
    "    \n",
    "    \n",
    "block_hex = int(test_block.hex(), 16)\n",
    "i = 1\n",
    "xor = 1\n",
    "\n",
    "distances = []\n",
    "\n",
    "amount = len(bin(block_hex))\n",
    "\n",
    "while xor < block_hex:\n",
    "\n",
    "    print(f'\\rDone: {i / amount}%', end='')\n",
    "    \n",
    "    tmp_hex = block_hex ^ xor\n",
    "    try:\n",
    "        tmp_block = bytes.fromhex(hex(tmp_hex)[2:])\n",
    "    except Exception as e:\n",
    "        tmp_block = bytes.fromhex('0'+hex(tmp_hex)[2:])\n",
    "    tmp_res = cipher.encrypt(tmp_block)\n",
    "    distances.append(hd(target, tmp_res))\n",
    "    i += 1\n",
    "    xor = 1 << i"
   ]
  },
  {
   "cell_type": "code",
   "execution_count": 149,
   "metadata": {
    "ExecuteTime": {
     "end_time": "2020-02-28T08:16:01.497075Z",
     "start_time": "2020-02-28T08:16:01.483406Z"
    }
   },
   "outputs": [
    {
     "data": {
      "text/plain": [
       "[57,\n",
       " 59,\n",
       " 59,\n",
       " 62,\n",
       " 58,\n",
       " 62,\n",
       " 70,\n",
       " 67,\n",
       " 68,\n",
       " 60,\n",
       " 65,\n",
       " 66,\n",
       " 64,\n",
       " 66,\n",
       " 64,\n",
       " 64,\n",
       " 68,\n",
       " 67,\n",
       " 64,\n",
       " 62,\n",
       " 59,\n",
       " 67,\n",
       " 65,\n",
       " 67,\n",
       " 62,\n",
       " 61,\n",
       " 66,\n",
       " 62,\n",
       " 61,\n",
       " 61,\n",
       " 71,\n",
       " 65,\n",
       " 63,\n",
       " 67,\n",
       " 67,\n",
       " 74,\n",
       " 58,\n",
       " 66,\n",
       " 59,\n",
       " 59,\n",
       " 61,\n",
       " 54,\n",
       " 55,\n",
       " 61,\n",
       " 68,\n",
       " 69,\n",
       " 63,\n",
       " 56,\n",
       " 70,\n",
       " 66,\n",
       " 68,\n",
       " 71,\n",
       " 72,\n",
       " 60,\n",
       " 63,\n",
       " 68,\n",
       " 64,\n",
       " 69,\n",
       " 63,\n",
       " 60,\n",
       " 72,\n",
       " 58,\n",
       " 60,\n",
       " 68,\n",
       " 66,\n",
       " 73,\n",
       " 66,\n",
       " 67,\n",
       " 66,\n",
       " 58,\n",
       " 73,\n",
       " 71,\n",
       " 59,\n",
       " 62,\n",
       " 71,\n",
       " 71,\n",
       " 62,\n",
       " 66,\n",
       " 54,\n",
       " 62,\n",
       " 65,\n",
       " 61,\n",
       " 68,\n",
       " 68,\n",
       " 69,\n",
       " 76,\n",
       " 65,\n",
       " 63,\n",
       " 63,\n",
       " 61,\n",
       " 57,\n",
       " 52,\n",
       " 58,\n",
       " 63,\n",
       " 69,\n",
       " 64,\n",
       " 57,\n",
       " 60,\n",
       " 56,\n",
       " 69,\n",
       " 55,\n",
       " 63,\n",
       " 62,\n",
       " 63,\n",
       " 59,\n",
       " 60,\n",
       " 69,\n",
       " 55,\n",
       " 65,\n",
       " 61,\n",
       " 68,\n",
       " 61,\n",
       " 62,\n",
       " 61,\n",
       " 63,\n",
       " 64,\n",
       " 76,\n",
       " 70,\n",
       " 56,\n",
       " 61,\n",
       " 71,\n",
       " 61,\n",
       " 62,\n",
       " 61,\n",
       " 67,\n",
       " 59]"
      ]
     },
     "execution_count": 149,
     "metadata": {},
     "output_type": "execute_result"
    }
   ],
   "source": [
    "distances"
   ]
  },
  {
   "cell_type": "code",
   "execution_count": 152,
   "metadata": {
    "ExecuteTime": {
     "end_time": "2020-02-28T08:16:24.204914Z",
     "start_time": "2020-02-28T08:16:24.027312Z"
    }
   },
   "outputs": [
    {
     "data": {
      "text/plain": [
       "(array([ 1.,  0.,  0.,  0.,  2.,  0.,  3.,  0.,  3.,  0.,  3.,  0.,  5.,\n",
       "         0.,  8.,  0.,  6.,  0., 13.,  0., 11.,  0., 10.,  0.,  0.,  7.,\n",
       "         0.,  6.,  0.,  9.,  0.,  8.,  0.,  9.,  0.,  6.,  0.,  3.,  0.,\n",
       "         6.,  0.,  2.,  0.,  2.,  0.,  1.,  0.,  0.,  0.,  2.]),\n",
       " array([52.  , 52.48, 52.96, 53.44, 53.92, 54.4 , 54.88, 55.36, 55.84,\n",
       "        56.32, 56.8 , 57.28, 57.76, 58.24, 58.72, 59.2 , 59.68, 60.16,\n",
       "        60.64, 61.12, 61.6 , 62.08, 62.56, 63.04, 63.52, 64.  , 64.48,\n",
       "        64.96, 65.44, 65.92, 66.4 , 66.88, 67.36, 67.84, 68.32, 68.8 ,\n",
       "        69.28, 69.76, 70.24, 70.72, 71.2 , 71.68, 72.16, 72.64, 73.12,\n",
       "        73.6 , 74.08, 74.56, 75.04, 75.52, 76.  ]),\n",
       " <a list of 50 Patch objects>)"
      ]
     },
     "execution_count": 152,
     "metadata": {},
     "output_type": "execute_result"
    },
    {
     "data": {
      "image/png": "[encoded data removed]",
      "text/plain": [
       "<Figure size 432x288 with 1 Axes>"
      ]
     },
     "metadata": {
      "needs_background": "light"
     },
     "output_type": "display_data"
    }
   ],
   "source": [
    "plt.hist(distances, bins=50)"
   ]
  },
  {
   "cell_type": "code",
   "execution_count": 153,
   "metadata": {
    "ExecuteTime": {
     "end_time": "2020-02-28T08:16:27.777000Z",
     "start_time": "2020-02-28T08:16:27.773746Z"
    }
   },
   "outputs": [
    {
     "data": {
      "text/plain": [
       "76"
      ]
     },
     "execution_count": 153,
     "metadata": {},
     "output_type": "execute_result"
    }
   ],
   "source": [
    "max(distances)"
   ]
  },
  {
   "cell_type": "code",
   "execution_count": 154,
   "metadata": {
    "ExecuteTime": {
     "end_time": "2020-02-28T08:17:18.835583Z",
     "start_time": "2020-02-28T08:17:18.829197Z"
    }
   },
   "outputs": [
    {
     "data": {
      "text/plain": [
       "63.785714285714285"
      ]
     },
     "execution_count": 154,
     "metadata": {},
     "output_type": "execute_result"
    }
   ],
   "source": [
    "np.mean(distances)"
   ]
  },
  {
   "cell_type": "code",
   "execution_count": 155,
   "metadata": {
    "ExecuteTime": {
     "end_time": "2020-02-28T08:19:51.056665Z",
     "start_time": "2020-02-28T08:19:51.053221Z"
    }
   },
   "outputs": [
    {
     "data": {
      "text/plain": [
       "52"
      ]
     },
     "execution_count": 155,
     "metadata": {},
     "output_type": "execute_result"
    }
   ],
   "source": [
    "min(distances)"
   ]
  },
  {
   "cell_type": "code",
   "execution_count": null,
   "metadata": {},
   "outputs": [],
   "source": []
  }
 ],
 "metadata": {
  "kernelspec": {
   "display_name": "Python 3",
   "language": "python",
   "name": "python3"
  },
  "language_info": {
   "codemirror_mode": {
    "name": "ipython",
    "version": 3
   },
   "file_extension": ".py",
   "mimetype": "text/x-python",
   "name": "python",
   "nbconvert_exporter": "python",
   "pygments_lexer": "ipython3",
   "version": "3.7.4"
  }
 },
 "nbformat": 4,
 "nbformat_minor": 2
}
